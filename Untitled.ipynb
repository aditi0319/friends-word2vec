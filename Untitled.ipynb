{
 "cells": [
  {
   "cell_type": "code",
   "execution_count": 1,
   "id": "e9620944-9ded-4e28-a9aa-bb8ec0353ace",
   "metadata": {},
   "outputs": [],
   "source": [
    "import pandas as pd\n",
    "import numpy as np"
   ]
  },
  {
   "cell_type": "code",
   "execution_count": 2,
   "id": "09d076e0-e8c8-4c12-86f0-afac7b0c6771",
   "metadata": {},
   "outputs": [],
   "source": [
    "df = pd.read_csv('Friends.csv')\n"
   ]
  },
  {
   "cell_type": "code",
   "execution_count": 3,
   "id": "823ac4b2-b25c-4c6b-9c32-0b15557e478c",
   "metadata": {},
   "outputs": [
    {
     "data": {
      "text/plain": [
       "(69974, 5)"
      ]
     },
     "execution_count": 3,
     "metadata": {},
     "output_type": "execute_result"
    }
   ],
   "source": [
    "df.shape"
   ]
  },
  {
   "cell_type": "code",
   "execution_count": 4,
   "id": "8f3070f1-c169-4df6-b7b7-22680654187e",
   "metadata": {},
   "outputs": [
    {
     "data": {
      "text/html": [
       "<div>\n",
       "<style scoped>\n",
       "    .dataframe tbody tr th:only-of-type {\n",
       "        vertical-align: middle;\n",
       "    }\n",
       "\n",
       "    .dataframe tbody tr th {\n",
       "        vertical-align: top;\n",
       "    }\n",
       "\n",
       "    .dataframe thead th {\n",
       "        text-align: right;\n",
       "    }\n",
       "</style>\n",
       "<table border=\"1\" class=\"dataframe\">\n",
       "  <thead>\n",
       "    <tr style=\"text-align: right;\">\n",
       "      <th></th>\n",
       "      <th>Text</th>\n",
       "      <th>Speaker</th>\n",
       "      <th>Episode</th>\n",
       "      <th>Season</th>\n",
       "      <th>Show</th>\n",
       "    </tr>\n",
       "  </thead>\n",
       "  <tbody>\n",
       "    <tr>\n",
       "      <th>0</th>\n",
       "      <td>Originally written by Marta Kauffman and David...</td>\n",
       "      <td>NaN</td>\n",
       "      <td>Episode-01-The One Where Monica Gets a New Roo...</td>\n",
       "      <td>Season-01</td>\n",
       "      <td>Friends</td>\n",
       "    </tr>\n",
       "    <tr>\n",
       "      <th>1</th>\n",
       "      <td>Transcribed by guineapig.</td>\n",
       "      <td>NaN</td>\n",
       "      <td>Episode-01-The One Where Monica Gets a New Roo...</td>\n",
       "      <td>Season-01</td>\n",
       "      <td>Friends</td>\n",
       "    </tr>\n",
       "    <tr>\n",
       "      <th>2</th>\n",
       "      <td>CENTRAL PERK. (ALL PRESENT EXCEPT RACHEL AND ...</td>\n",
       "      <td>SCENE 1</td>\n",
       "      <td>Episode-01-The One Where Monica Gets a New Roo...</td>\n",
       "      <td>Season-01</td>\n",
       "      <td>Friends</td>\n",
       "    </tr>\n",
       "    <tr>\n",
       "      <th>3</th>\n",
       "      <td>There's nothing to tell! He's just some guy I...</td>\n",
       "      <td>MONICA</td>\n",
       "      <td>Episode-01-The One Where Monica Gets a New Roo...</td>\n",
       "      <td>Season-01</td>\n",
       "      <td>Friends</td>\n",
       "    </tr>\n",
       "    <tr>\n",
       "      <th>4</th>\n",
       "      <td>C'mon, you're going out with the guy! There's...</td>\n",
       "      <td>JOEY</td>\n",
       "      <td>Episode-01-The One Where Monica Gets a New Roo...</td>\n",
       "      <td>Season-01</td>\n",
       "      <td>Friends</td>\n",
       "    </tr>\n",
       "  </tbody>\n",
       "</table>\n",
       "</div>"
      ],
      "text/plain": [
       "                                                Text  Speaker  \\\n",
       "0  Originally written by Marta Kauffman and David...      NaN   \n",
       "1                          Transcribed by guineapig.      NaN   \n",
       "2   CENTRAL PERK. (ALL PRESENT EXCEPT RACHEL AND ...  SCENE 1   \n",
       "3   There's nothing to tell! He's just some guy I...   MONICA   \n",
       "4   C'mon, you're going out with the guy! There's...     JOEY   \n",
       "\n",
       "                                             Episode     Season     Show  \n",
       "0  Episode-01-The One Where Monica Gets a New Roo...  Season-01  Friends  \n",
       "1  Episode-01-The One Where Monica Gets a New Roo...  Season-01  Friends  \n",
       "2  Episode-01-The One Where Monica Gets a New Roo...  Season-01  Friends  \n",
       "3  Episode-01-The One Where Monica Gets a New Roo...  Season-01  Friends  \n",
       "4  Episode-01-The One Where Monica Gets a New Roo...  Season-01  Friends  "
      ]
     },
     "execution_count": 4,
     "metadata": {},
     "output_type": "execute_result"
    }
   ],
   "source": [
    "df.head()"
   ]
  },
  {
   "cell_type": "code",
   "execution_count": 5,
   "id": "456b2917-efd6-4b21-9559-646f71d4b39a",
   "metadata": {},
   "outputs": [
    {
     "data": {
      "text/plain": [
       "0"
      ]
     },
     "execution_count": 5,
     "metadata": {},
     "output_type": "execute_result"
    }
   ],
   "source": [
    "df['Text'].isnull().sum()"
   ]
  },
  {
   "cell_type": "code",
   "execution_count": 6,
   "id": "b26b90d2-7755-4dc8-aff5-f496132a1c1b",
   "metadata": {},
   "outputs": [
    {
     "name": "stdout",
     "output_type": "stream",
     "text": [
      "Final size: 65799\n",
      "0     Originally written by Marta Kauffman and David...\n",
      "1                             Transcribed by guineapig.\n",
      "2                                         CENTRAL PERK.\n",
      "3     There's nothing to tell! He's just some guy I ...\n",
      "4     C'mon, you're going out with the guy! There's ...\n",
      "5       So does he have a hump? A hump and a hairpiece?\n",
      "6                              Wait, does he eat chalk?\n",
      "8     Just, 'cause, I don't want her to go through w...\n",
      "9     Okay, everybody relax. This is not even a date...\n",
      "10                            Sounds like a date to me.\n",
      "Name: Text, dtype: object\n"
     ]
    }
   ],
   "source": [
    "\n",
    "df[\"Text\"] = df[\"Text\"].str.replace(r\"(\\[.*?\\]|\\(.*?\\)|Commercial Break|continued from earlier)\", \"\", regex=True).str.strip()\n",
    "\n",
    "# Drop empty rows (in case some dialogues become blank after cleaning)\n",
    "df = df[df[\"Text\"].str.strip() != \"\"]\n",
    "\n",
    "print(\"Final size:\", len(df))\n",
    "print(df[\"Text\"].head(10))"
   ]
  },
  {
   "cell_type": "code",
   "execution_count": 7,
   "id": "ea8fb3bf-3662-457e-967e-ba3cd61f3a8e",
   "metadata": {},
   "outputs": [
    {
     "data": {
      "text/plain": [
       "(65799, 5)"
      ]
     },
     "execution_count": 7,
     "metadata": {},
     "output_type": "execute_result"
    }
   ],
   "source": [
    "df.shape"
   ]
  },
  {
   "cell_type": "markdown",
   "id": "3b2b1672-39d7-4d4d-8085-70a0cb678a90",
   "metadata": {},
   "source": [
    "## Text preprocessing"
   ]
  },
  {
   "cell_type": "code",
   "execution_count": 8,
   "id": "5eca91ec-9e3a-4393-a214-4a951a7b94d1",
   "metadata": {},
   "outputs": [],
   "source": [
    "df[\"Text\"] = df[\"Text\"].astype(str)\n"
   ]
  },
  {
   "cell_type": "code",
   "execution_count": 9,
   "id": "15790ed4-a083-4cf7-83da-b6d2c1d1d676",
   "metadata": {},
   "outputs": [
    {
     "name": "stderr",
     "output_type": "stream",
     "text": [
      "[nltk_data] Error loading stopwords: <urlopen error [Errno 11001]\n",
      "[nltk_data]     getaddrinfo failed>\n"
     ]
    },
    {
     "data": {
      "text/html": [
       "<div>\n",
       "<style scoped>\n",
       "    .dataframe tbody tr th:only-of-type {\n",
       "        vertical-align: middle;\n",
       "    }\n",
       "\n",
       "    .dataframe tbody tr th {\n",
       "        vertical-align: top;\n",
       "    }\n",
       "\n",
       "    .dataframe thead th {\n",
       "        text-align: right;\n",
       "    }\n",
       "</style>\n",
       "<table border=\"1\" class=\"dataframe\">\n",
       "  <thead>\n",
       "    <tr style=\"text-align: right;\">\n",
       "      <th></th>\n",
       "      <th>Text</th>\n",
       "      <th>Speaker</th>\n",
       "      <th>Episode</th>\n",
       "      <th>Season</th>\n",
       "      <th>Show</th>\n",
       "    </tr>\n",
       "  </thead>\n",
       "  <tbody>\n",
       "    <tr>\n",
       "      <th>0</th>\n",
       "      <td>[originally, written, marta, kauffman, david, ...</td>\n",
       "      <td>NaN</td>\n",
       "      <td>Episode-01-The One Where Monica Gets a New Roo...</td>\n",
       "      <td>Season-01</td>\n",
       "      <td>Friends</td>\n",
       "    </tr>\n",
       "    <tr>\n",
       "      <th>1</th>\n",
       "      <td>[transcribed, guineapig]</td>\n",
       "      <td>NaN</td>\n",
       "      <td>Episode-01-The One Where Monica Gets a New Roo...</td>\n",
       "      <td>Season-01</td>\n",
       "      <td>Friends</td>\n",
       "    </tr>\n",
       "    <tr>\n",
       "      <th>2</th>\n",
       "      <td>[central, perk]</td>\n",
       "      <td>SCENE 1</td>\n",
       "      <td>Episode-01-The One Where Monica Gets a New Roo...</td>\n",
       "      <td>Season-01</td>\n",
       "      <td>Friends</td>\n",
       "    </tr>\n",
       "    <tr>\n",
       "      <th>3</th>\n",
       "      <td>[nothing, tell, guy, work]</td>\n",
       "      <td>MONICA</td>\n",
       "      <td>Episode-01-The One Where Monica Gets a New Roo...</td>\n",
       "      <td>Season-01</td>\n",
       "      <td>Friends</td>\n",
       "    </tr>\n",
       "    <tr>\n",
       "      <th>4</th>\n",
       "      <td>[mon, going, guy, gotta, something, wrong]</td>\n",
       "      <td>JOEY</td>\n",
       "      <td>Episode-01-The One Where Monica Gets a New Roo...</td>\n",
       "      <td>Season-01</td>\n",
       "      <td>Friends</td>\n",
       "    </tr>\n",
       "    <tr>\n",
       "      <th>5</th>\n",
       "      <td>[hump, hump, hairpiece]</td>\n",
       "      <td>CHANDLER</td>\n",
       "      <td>Episode-01-The One Where Monica Gets a New Roo...</td>\n",
       "      <td>Season-01</td>\n",
       "      <td>Friends</td>\n",
       "    </tr>\n",
       "    <tr>\n",
       "      <th>6</th>\n",
       "      <td>[wait, eat, chalk]</td>\n",
       "      <td>PHOEBE</td>\n",
       "      <td>Episode-01-The One Where Monica Gets a New Roo...</td>\n",
       "      <td>Season-01</td>\n",
       "      <td>Friends</td>\n",
       "    </tr>\n",
       "    <tr>\n",
       "      <th>8</th>\n",
       "      <td>[cause, want, go, went, carl, oh]</td>\n",
       "      <td>PHOEBE</td>\n",
       "      <td>Episode-01-The One Where Monica Gets a New Roo...</td>\n",
       "      <td>Season-01</td>\n",
       "      <td>Friends</td>\n",
       "    </tr>\n",
       "    <tr>\n",
       "      <th>9</th>\n",
       "      <td>[okay, everybody, relax, even, date, two, peop...</td>\n",
       "      <td>MONICA</td>\n",
       "      <td>Episode-01-The One Where Monica Gets a New Roo...</td>\n",
       "      <td>Season-01</td>\n",
       "      <td>Friends</td>\n",
       "    </tr>\n",
       "    <tr>\n",
       "      <th>10</th>\n",
       "      <td>[sounds, like, date]</td>\n",
       "      <td>CHANDLER</td>\n",
       "      <td>Episode-01-The One Where Monica Gets a New Roo...</td>\n",
       "      <td>Season-01</td>\n",
       "      <td>Friends</td>\n",
       "    </tr>\n",
       "  </tbody>\n",
       "</table>\n",
       "</div>"
      ],
      "text/plain": [
       "                                                 Text   Speaker  \\\n",
       "0   [originally, written, marta, kauffman, david, ...       NaN   \n",
       "1                            [transcribed, guineapig]       NaN   \n",
       "2                                     [central, perk]   SCENE 1   \n",
       "3                          [nothing, tell, guy, work]    MONICA   \n",
       "4          [mon, going, guy, gotta, something, wrong]      JOEY   \n",
       "5                             [hump, hump, hairpiece]  CHANDLER   \n",
       "6                                  [wait, eat, chalk]    PHOEBE   \n",
       "8                   [cause, want, go, went, carl, oh]    PHOEBE   \n",
       "9   [okay, everybody, relax, even, date, two, peop...    MONICA   \n",
       "10                               [sounds, like, date]  CHANDLER   \n",
       "\n",
       "                                              Episode     Season     Show  \n",
       "0   Episode-01-The One Where Monica Gets a New Roo...  Season-01  Friends  \n",
       "1   Episode-01-The One Where Monica Gets a New Roo...  Season-01  Friends  \n",
       "2   Episode-01-The One Where Monica Gets a New Roo...  Season-01  Friends  \n",
       "3   Episode-01-The One Where Monica Gets a New Roo...  Season-01  Friends  \n",
       "4   Episode-01-The One Where Monica Gets a New Roo...  Season-01  Friends  \n",
       "5   Episode-01-The One Where Monica Gets a New Roo...  Season-01  Friends  \n",
       "6   Episode-01-The One Where Monica Gets a New Roo...  Season-01  Friends  \n",
       "8   Episode-01-The One Where Monica Gets a New Roo...  Season-01  Friends  \n",
       "9   Episode-01-The One Where Monica Gets a New Roo...  Season-01  Friends  \n",
       "10  Episode-01-The One Where Monica Gets a New Roo...  Season-01  Friends  "
      ]
     },
     "execution_count": 9,
     "metadata": {},
     "output_type": "execute_result"
    }
   ],
   "source": [
    "import re\n",
    "import nltk\n",
    "from nltk.corpus import stopwords\n",
    "from gensim.utils import simple_preprocess\n",
    "\n",
    "nltk.download(\"stopwords\")\n",
    "stop_words = set(stopwords.words(\"english\"))\n",
    "\n",
    "# preprocessing function\n",
    "def preprocess(text):\n",
    "    text = re.sub(r\"[^a-zA-Z]\", \" \", str(text)).lower()\n",
    "    tokens = simple_preprocess(text, deacc=True)\n",
    "    return [word for word in tokens if word not in stop_words]\n",
    "\n",
    "# apply preprocessing to \"dialogue\" column\n",
    "df[\"Text\"] = df[\"Text\"].apply(preprocess)\n",
    "\n",
    "# show a sample\n",
    "df.head(10)\n"
   ]
  },
  {
   "cell_type": "code",
   "execution_count": 10,
   "id": "dd73c149-f438-42f6-aa66-616747c9caec",
   "metadata": {},
   "outputs": [
    {
     "data": {
      "text/html": [
       "<div>\n",
       "<style scoped>\n",
       "    .dataframe tbody tr th:only-of-type {\n",
       "        vertical-align: middle;\n",
       "    }\n",
       "\n",
       "    .dataframe tbody tr th {\n",
       "        vertical-align: top;\n",
       "    }\n",
       "\n",
       "    .dataframe thead th {\n",
       "        text-align: right;\n",
       "    }\n",
       "</style>\n",
       "<table border=\"1\" class=\"dataframe\">\n",
       "  <thead>\n",
       "    <tr style=\"text-align: right;\">\n",
       "      <th></th>\n",
       "      <th>Text</th>\n",
       "      <th>Speaker</th>\n",
       "      <th>Episode</th>\n",
       "      <th>Season</th>\n",
       "      <th>Show</th>\n",
       "    </tr>\n",
       "  </thead>\n",
       "  <tbody>\n",
       "    <tr>\n",
       "      <th>55639</th>\n",
       "      <td>[excellent, let, play, bamboozled, chandler, g...</td>\n",
       "      <td>Joey</td>\n",
       "      <td>Episode-20-The One With The Baby Shower</td>\n",
       "      <td>Season-08</td>\n",
       "      <td>Friends</td>\n",
       "    </tr>\n",
       "    <tr>\n",
       "      <th>55640</th>\n",
       "      <td>[bogota]</td>\n",
       "      <td>Chandler</td>\n",
       "      <td>Episode-20-The One With The Baby Shower</td>\n",
       "      <td>Season-08</td>\n",
       "      <td>Friends</td>\n",
       "    </tr>\n",
       "    <tr>\n",
       "      <th>55641</th>\n",
       "      <td>[ba, go, ta, close, enough, either, pass, turn...</td>\n",
       "      <td>Joey</td>\n",
       "      <td>Episode-20-The One With The Baby Shower</td>\n",
       "      <td>Season-08</td>\n",
       "      <td>Friends</td>\n",
       "    </tr>\n",
       "    <tr>\n",
       "      <th>55642</th>\n",
       "      <td>[wicked, wango, card]</td>\n",
       "      <td>Chandler</td>\n",
       "      <td>Episode-20-The One With The Baby Shower</td>\n",
       "      <td>Season-08</td>\n",
       "      <td>Friends</td>\n",
       "    </tr>\n",
       "    <tr>\n",
       "      <th>55643</th>\n",
       "      <td>[know, let, see, one, moment, please, umm, wic...</td>\n",
       "      <td>Joey</td>\n",
       "      <td>Episode-20-The One With The Baby Shower</td>\n",
       "      <td>Season-08</td>\n",
       "      <td>Friends</td>\n",
       "    </tr>\n",
       "    <tr>\n",
       "      <th>55644</th>\n",
       "      <td>[higher, lower]</td>\n",
       "      <td>Chandler</td>\n",
       "      <td>Episode-20-The One With The Baby Shower</td>\n",
       "      <td>Season-08</td>\n",
       "      <td>Friends</td>\n",
       "    </tr>\n",
       "    <tr>\n",
       "      <th>55645</th>\n",
       "      <td>[embarrassing]</td>\n",
       "      <td>Joey</td>\n",
       "      <td>Episode-20-The One With The Baby Shower</td>\n",
       "      <td>Season-08</td>\n",
       "      <td>Friends</td>\n",
       "    </tr>\n",
       "    <tr>\n",
       "      <th>55646</th>\n",
       "      <td>[believe, lame]</td>\n",
       "      <td>Chandler</td>\n",
       "      <td>Episode-20-The One With The Baby Shower</td>\n",
       "      <td>Season-08</td>\n",
       "      <td>Friends</td>\n",
       "    </tr>\n",
       "    <tr>\n",
       "      <th>55647</th>\n",
       "      <td>[sorry, believe, contestants, allowed, talk]</td>\n",
       "      <td>Ross</td>\n",
       "      <td>Episode-20-The One With The Baby Shower</td>\n",
       "      <td>Season-08</td>\n",
       "      <td>Friends</td>\n",
       "    </tr>\n",
       "    <tr>\n",
       "      <th>55648</th>\n",
       "      <td>[monica, chandler, rachel, baby, shower, under...</td>\n",
       "      <td>[Scene</td>\n",
       "      <td>Episode-20-The One With The Baby Shower</td>\n",
       "      <td>Season-08</td>\n",
       "      <td>Friends</td>\n",
       "    </tr>\n",
       "    <tr>\n",
       "      <th>55649</th>\n",
       "      <td>[oh, told, stripper, five, good, right]</td>\n",
       "      <td>Phoebe</td>\n",
       "      <td>Episode-20-The One With The Baby Shower</td>\n",
       "      <td>Season-08</td>\n",
       "      <td>Friends</td>\n",
       "    </tr>\n",
       "    <tr>\n",
       "      <th>55650</th>\n",
       "      <td>[ordered, stripper, shower, totally, inappropr...</td>\n",
       "      <td>Monica</td>\n",
       "      <td>Episode-20-The One With The Baby Shower</td>\n",
       "      <td>Season-08</td>\n",
       "      <td>Friends</td>\n",
       "    </tr>\n",
       "    <tr>\n",
       "      <th>55651</th>\n",
       "      <td>[gonna, dressed, baby, oh, hi, mrs, green]</td>\n",
       "      <td>Phoebe</td>\n",
       "      <td>Episode-20-The One With The Baby Shower</td>\n",
       "      <td>Season-08</td>\n",
       "      <td>Friends</td>\n",
       "    </tr>\n",
       "    <tr>\n",
       "      <th>55652</th>\n",
       "      <td>[hi]</td>\n",
       "      <td>Monica</td>\n",
       "      <td>Episode-20-The One With The Baby Shower</td>\n",
       "      <td>Season-08</td>\n",
       "      <td>Friends</td>\n",
       "    </tr>\n",
       "    <tr>\n",
       "      <th>55653</th>\n",
       "      <td>[glad, could, make]</td>\n",
       "      <td>Phoebe</td>\n",
       "      <td>Episode-20-The One With The Baby Shower</td>\n",
       "      <td>Season-08</td>\n",
       "      <td>Friends</td>\n",
       "    </tr>\n",
       "    <tr>\n",
       "      <th>55654</th>\n",
       "      <td>[yes, thank, much, sorry, could, feel, worse]</td>\n",
       "      <td>Monica</td>\n",
       "      <td>Episode-20-The One With The Baby Shower</td>\n",
       "      <td>Season-08</td>\n",
       "      <td>Friends</td>\n",
       "    </tr>\n",
       "    <tr>\n",
       "      <th>55655</th>\n",
       "      <td>[try, little, girl]</td>\n",
       "      <td>Mrs. Green</td>\n",
       "      <td>Episode-20-The One With The Baby Shower</td>\n",
       "      <td>Season-08</td>\n",
       "      <td>Friends</td>\n",
       "    </tr>\n",
       "    <tr>\n",
       "      <th>55656</th>\n",
       "      <td>[still, mad]</td>\n",
       "      <td>Monica</td>\n",
       "      <td>Episode-20-The One With The Baby Shower</td>\n",
       "      <td>Season-08</td>\n",
       "      <td>Friends</td>\n",
       "    </tr>\n",
       "    <tr>\n",
       "      <th>55657</th>\n",
       "      <td>[yeah, know, great, one, less, person, make, s...</td>\n",
       "      <td>Phoebe</td>\n",
       "      <td>Episode-20-The One With The Baby Shower</td>\n",
       "      <td>Season-08</td>\n",
       "      <td>Friends</td>\n",
       "    </tr>\n",
       "    <tr>\n",
       "      <th>55658</th>\n",
       "      <td>[phoebe, sandra, mad, bother]</td>\n",
       "      <td>Monica</td>\n",
       "      <td>Episode-20-The One With The Baby Shower</td>\n",
       "      <td>Season-08</td>\n",
       "      <td>Friends</td>\n",
       "    </tr>\n",
       "  </tbody>\n",
       "</table>\n",
       "</div>"
      ],
      "text/plain": [
       "                                                    Text     Speaker  \\\n",
       "55639  [excellent, let, play, bamboozled, chandler, g...        Joey   \n",
       "55640                                           [bogota]    Chandler   \n",
       "55641  [ba, go, ta, close, enough, either, pass, turn...        Joey   \n",
       "55642                              [wicked, wango, card]    Chandler   \n",
       "55643  [know, let, see, one, moment, please, umm, wic...        Joey   \n",
       "55644                                    [higher, lower]    Chandler   \n",
       "55645                                     [embarrassing]        Joey   \n",
       "55646                                    [believe, lame]    Chandler   \n",
       "55647       [sorry, believe, contestants, allowed, talk]        Ross   \n",
       "55648  [monica, chandler, rachel, baby, shower, under...      [Scene   \n",
       "55649            [oh, told, stripper, five, good, right]      Phoebe   \n",
       "55650  [ordered, stripper, shower, totally, inappropr...      Monica   \n",
       "55651         [gonna, dressed, baby, oh, hi, mrs, green]      Phoebe   \n",
       "55652                                               [hi]      Monica   \n",
       "55653                                [glad, could, make]      Phoebe   \n",
       "55654      [yes, thank, much, sorry, could, feel, worse]      Monica   \n",
       "55655                                [try, little, girl]  Mrs. Green   \n",
       "55656                                       [still, mad]      Monica   \n",
       "55657  [yeah, know, great, one, less, person, make, s...      Phoebe   \n",
       "55658                      [phoebe, sandra, mad, bother]      Monica   \n",
       "\n",
       "                                       Episode     Season     Show  \n",
       "55639  Episode-20-The One With The Baby Shower  Season-08  Friends  \n",
       "55640  Episode-20-The One With The Baby Shower  Season-08  Friends  \n",
       "55641  Episode-20-The One With The Baby Shower  Season-08  Friends  \n",
       "55642  Episode-20-The One With The Baby Shower  Season-08  Friends  \n",
       "55643  Episode-20-The One With The Baby Shower  Season-08  Friends  \n",
       "55644  Episode-20-The One With The Baby Shower  Season-08  Friends  \n",
       "55645  Episode-20-The One With The Baby Shower  Season-08  Friends  \n",
       "55646  Episode-20-The One With The Baby Shower  Season-08  Friends  \n",
       "55647  Episode-20-The One With The Baby Shower  Season-08  Friends  \n",
       "55648  Episode-20-The One With The Baby Shower  Season-08  Friends  \n",
       "55649  Episode-20-The One With The Baby Shower  Season-08  Friends  \n",
       "55650  Episode-20-The One With The Baby Shower  Season-08  Friends  \n",
       "55651  Episode-20-The One With The Baby Shower  Season-08  Friends  \n",
       "55652  Episode-20-The One With The Baby Shower  Season-08  Friends  \n",
       "55653  Episode-20-The One With The Baby Shower  Season-08  Friends  \n",
       "55654  Episode-20-The One With The Baby Shower  Season-08  Friends  \n",
       "55655  Episode-20-The One With The Baby Shower  Season-08  Friends  \n",
       "55656  Episode-20-The One With The Baby Shower  Season-08  Friends  \n",
       "55657  Episode-20-The One With The Baby Shower  Season-08  Friends  \n",
       "55658  Episode-20-The One With The Baby Shower  Season-08  Friends  "
      ]
     },
     "execution_count": 10,
     "metadata": {},
     "output_type": "execute_result"
    }
   ],
   "source": [
    "df.iloc[52270:52290]"
   ]
  },
  {
   "cell_type": "code",
   "execution_count": 11,
   "id": "59354c2c-4c43-4825-b940-726ac0e45ed6",
   "metadata": {},
   "outputs": [
    {
     "data": {
      "text/plain": [
       "(65799, 5)"
      ]
     },
     "execution_count": 11,
     "metadata": {},
     "output_type": "execute_result"
    }
   ],
   "source": [
    "df[\"Text\"].iloc[49027:49050]\n",
    "df.shape"
   ]
  },
  {
   "cell_type": "code",
   "execution_count": 12,
   "id": "4509222d-b1ee-43f7-a56e-bc896cbd8d9a",
   "metadata": {},
   "outputs": [
    {
     "name": "stdout",
     "output_type": "stream",
     "text": [
      "(2805, 5)\n",
      "    Text Speaker                                            Episode  \\\n",
      "18    []  PHOEBE  Episode-01-The One Where Monica Gets a New Roo...   \n",
      "29    []  MONICA  Episode-01-The One Where Monica Gets a New Roo...   \n",
      "107   []    JOEY  Episode-01-The One Where Monica Gets a New Roo...   \n",
      "137   []    PAUL  Episode-01-The One Where Monica Gets a New Roo...   \n",
      "191   []  MONICA  Episode-01-The One Where Monica Gets a New Roo...   \n",
      "\n",
      "        Season     Show  \n",
      "18   Season-01  Friends  \n",
      "29   Season-01  Friends  \n",
      "107  Season-01  Friends  \n",
      "137  Season-01  Friends  \n",
      "191  Season-01  Friends  \n"
     ]
    }
   ],
   "source": [
    "empty_rows = df[df[\"Text\"].apply(lambda x: len(x) == 0)]\n",
    "print(empty_rows.shape)\n",
    "print(empty_rows.head())\n"
   ]
  },
  {
   "cell_type": "markdown",
   "id": "70e3b446-153a-44b0-8893-8a1c180af1b9",
   "metadata": {},
   "source": [
    "#### convert 'Text' column to 2D list for word2vec process"
   ]
  },
  {
   "cell_type": "code",
   "execution_count": 13,
   "id": "a6132f84-56b9-4cff-b0c4-377ef071f96b",
   "metadata": {},
   "outputs": [
    {
     "name": "stdout",
     "output_type": "stream",
     "text": [
      "[['welling'], [], ['gonna', 'aunt'], ['oh', 'shut'], ['hi', 'mindy', 'hi', 'rachel', 'yeah', 'fine', 'saw', 'barry', 'today', 'oh', 'yeah', 'yeah', 'told', 'okay', 'hope', 'two', 'happy', 'really', 'oh', 'oh', 'mind', 'know', 'everything', 'works', 'guys', 'end', 'getting', 'married', 'kids', 'everything', 'hope', 'old', 'hairline', 'old', 'nose', 'okay', 'know', 'cheap', 'shot', 'feel', 'much', 'better'], ['end'], ['originally', 'written', 'jeffrey', 'astrof', 'mike', 'sikowitz'], ['transcribed', 'guineapig'], ['central', 'perk'], ['hi', 'guys']]\n"
     ]
    }
   ],
   "source": [
    "\n",
    "texts = df[\"Text\"].tolist()\n",
    "\n",
    "# check first few\n",
    "print(texts[490:500])\n"
   ]
  },
  {
   "cell_type": "code",
   "execution_count": 14,
   "id": "0c5843ba-be6d-40ec-b77f-77a656c9d000",
   "metadata": {},
   "outputs": [
    {
     "data": {
      "text/plain": [
       "65799"
      ]
     },
     "execution_count": 14,
     "metadata": {},
     "output_type": "execute_result"
    }
   ],
   "source": [
    "len(texts)"
   ]
  },
  {
   "cell_type": "code",
   "execution_count": 15,
   "id": "8f16ba2b-0bea-4cb3-98d3-34870238dac1",
   "metadata": {},
   "outputs": [
    {
     "data": {
      "text/plain": [
       "0    [originally, written, marta, kauffman, david, ...\n",
       "1                             [transcribed, guineapig]\n",
       "2                                      [central, perk]\n",
       "3                           [nothing, tell, guy, work]\n",
       "4           [mon, going, guy, gotta, something, wrong]\n",
       "Name: Text, dtype: object"
      ]
     },
     "execution_count": 15,
     "metadata": {},
     "output_type": "execute_result"
    }
   ],
   "source": [
    "df[\"Text\"].head()"
   ]
  },
  {
   "cell_type": "markdown",
   "id": "48473c74-44b3-4910-bdf7-445dd2567745",
   "metadata": {},
   "source": [
    "# Word2VEC "
   ]
  },
  {
   "cell_type": "code",
   "execution_count": 16,
   "id": "5d0f6c6e-27f4-4c23-a9ef-2cec0ff31a29",
   "metadata": {},
   "outputs": [],
   "source": [
    "import gensim\n",
    "from gensim.models import Word2Vec\n",
    "model = Word2Vec( sentences= texts\n",
    "                 , vector_size=100, # embedding dimensions \n",
    "                 window=5, # context window \n",
    "                 min_count=2, # ignore rare words \n",
    "                 workers=4, # parallel training \n",
    "                 sg=1 # 1=skip-gram, 0=CBOW \n",
    "                )"
   ]
  },
  {
   "cell_type": "code",
   "execution_count": 50,
   "id": "7c56acec-5a21-4304-ac8f-64240751f35f",
   "metadata": {},
   "outputs": [],
   "source": [
    "model.save(\"friends_word2vec.model\")"
   ]
  },
  {
   "cell_type": "code",
   "execution_count": 17,
   "id": "beda0458-6359-4bea-a324-073bb8988c5f",
   "metadata": {},
   "outputs": [],
   "source": [
    "model.build_vocab(texts) #unique words"
   ]
  },
  {
   "cell_type": "code",
   "execution_count": 18,
   "id": "ab999498-a460-44a5-9031-755b71163861",
   "metadata": {},
   "outputs": [
    {
     "data": {
      "text/plain": [
       "(1291562, 1606840)"
      ]
     },
     "execution_count": 18,
     "metadata": {},
     "output_type": "execute_result"
    }
   ],
   "source": [
    "model.train(texts, total_examples= model.corpus_count, epochs = model.epochs) #total corpus, total epochs"
   ]
  },
  {
   "cell_type": "code",
   "execution_count": 19,
   "id": "e15a2fc2-6e38-45ea-bb27-966840af7810",
   "metadata": {},
   "outputs": [
    {
     "data": {
      "text/plain": [
       "[('sits', 0.8395362496376038),\n",
       " ('ross', 0.8151080012321472),\n",
       " ('monopoly', 0.8132028579711914),\n",
       " ('counter', 0.8008480072021484),\n",
       " ('singing', 0.7992135882377625),\n",
       " ('preparing', 0.7989449501037598),\n",
       " ('bonnie', 0.798133909702301),\n",
       " ('frank', 0.7968018651008606),\n",
       " ('outside', 0.7961920499801636),\n",
       " ('beeper', 0.7924899458885193)]"
      ]
     },
     "execution_count": 19,
     "metadata": {},
     "output_type": "execute_result"
    }
   ],
   "source": [
    "model.wv.most_similar('phoebe')"
   ]
  },
  {
   "cell_type": "code",
   "execution_count": 20,
   "id": "6c57b754-0e1c-40c9-b301-9c054f566451",
   "metadata": {},
   "outputs": [
    {
     "data": {
      "text/plain": [
       "'apartment'"
      ]
     },
     "execution_count": 20,
     "metadata": {},
     "output_type": "execute_result"
    }
   ],
   "source": [
    "model.wv.doesnt_match(['monica','pheobe','rachel','ross','apartment','chandler','joey']) #jon is odd one out because he is not one of the sibling"
   ]
  },
  {
   "cell_type": "code",
   "execution_count": 46,
   "id": "c5d9a5df-7661-4ea4-90a6-c095ec9b09c3",
   "metadata": {},
   "outputs": [
    {
     "data": {
      "text/plain": [
       "'rachel'"
      ]
     },
     "execution_count": 46,
     "metadata": {},
     "output_type": "execute_result"
    }
   ],
   "source": [
    "model.wv.doesnt_match(['rachel','sing','guitar','phoebe'])"
   ]
  },
  {
   "cell_type": "code",
   "execution_count": 22,
   "id": "8b0a7899-4b7f-4078-b9a6-a7f741153f45",
   "metadata": {},
   "outputs": [
    {
     "data": {
      "text/plain": [
       "array([-0.21254057,  0.27301243,  0.01332395,  0.7239139 ,  0.6445397 ,\n",
       "       -0.27551666,  0.2504849 ,  0.32514942, -0.44480821, -0.18423028,\n",
       "       -0.1333987 , -0.4735639 ,  0.7737555 ,  0.23431072,  0.36953658,\n",
       "       -0.22481863, -0.21654509, -0.22827725, -0.03297982, -0.7793091 ,\n",
       "       -0.16511506,  0.19896853,  0.24898584, -0.0976131 ,  0.11147793,\n",
       "       -0.05018934,  0.39634317, -0.00968756, -0.26806158, -0.47055122,\n",
       "        0.5257586 , -0.15900725, -0.12481243, -0.07676114, -0.12214171,\n",
       "        0.5768168 ,  0.147309  ,  0.12413386,  0.2537928 , -0.44213375,\n",
       "       -0.327286  , -0.11898596, -0.02378414,  0.11790865,  0.3812695 ,\n",
       "        0.32027322, -0.14614818, -0.2059069 ,  0.41384277, -0.01358156,\n",
       "        0.08596321,  0.03015007, -0.42401293, -0.35900304, -0.02772697,\n",
       "        0.0161346 , -0.05869096, -0.26050863, -0.76049733, -0.03895647,\n",
       "       -0.03238434, -0.08008735, -0.17010854,  0.21816678, -0.91347545,\n",
       "        0.23393488,  0.02167646, -0.2664648 , -0.3045411 ,  0.39431053,\n",
       "        0.15315023, -0.06837887,  0.5760238 , -0.40126747,  0.47629952,\n",
       "       -0.02702386, -0.06109433,  0.34579712, -0.16398947, -0.21442011,\n",
       "       -0.0312581 , -0.25355467, -0.46716055,  0.39390445,  0.33203802,\n",
       "        0.04543627, -0.29993942,  0.3305462 ,  0.39159027,  0.00683395,\n",
       "        0.07598323,  0.12717962,  0.2865559 ,  0.49963176,  0.4964595 ,\n",
       "        0.4237686 , -0.1747665 , -0.31566346, -0.04674997, -0.26025915],\n",
       "      dtype=float32)"
      ]
     },
     "execution_count": 22,
     "metadata": {},
     "output_type": "execute_result"
    }
   ],
   "source": [
    "model.wv['ross']"
   ]
  },
  {
   "cell_type": "code",
   "execution_count": 23,
   "id": "2dbe86e0-0b35-4b56-b099-910a71a267c4",
   "metadata": {},
   "outputs": [
    {
     "data": {
      "text/plain": [
       "0.7968019"
      ]
     },
     "execution_count": 23,
     "metadata": {},
     "output_type": "execute_result"
    }
   ],
   "source": [
    "model.wv.similarity('phoebe','frank')"
   ]
  },
  {
   "cell_type": "code",
   "execution_count": 24,
   "id": "20a6c81d-5447-4ee3-8253-fe2ee7acad70",
   "metadata": {},
   "outputs": [
    {
     "data": {
      "text/plain": [
       "0.52387035"
      ]
     },
     "execution_count": 24,
     "metadata": {},
     "output_type": "execute_result"
    }
   ],
   "source": [
    "model.wv.similarity('clean','monica')"
   ]
  },
  {
   "cell_type": "code",
   "execution_count": 25,
   "id": "1b52960b-2a99-4cbf-bd8d-091968d0b10d",
   "metadata": {},
   "outputs": [
    {
     "data": {
      "text/plain": [
       "0.8296759"
      ]
     },
     "execution_count": 25,
     "metadata": {},
     "output_type": "execute_result"
    }
   ],
   "source": [
    "model.wv.similarity('ross','rachel')"
   ]
  },
  {
   "cell_type": "code",
   "execution_count": 26,
   "id": "8abf20ad-35ec-441c-ad40-a9bffd32b26b",
   "metadata": {},
   "outputs": [
    {
     "data": {
      "text/plain": [
       "array([-3.92635874e-02, -3.60006909e-03, -4.53965031e-02,  9.37941298e-02,\n",
       "        1.51848227e-01, -1.00907959e-01,  9.96106714e-02, -1.53925575e-04,\n",
       "       -1.56204611e-01, -1.78227991e-01, -1.05883405e-01, -1.23161554e-01,\n",
       "        1.06212594e-01, -3.75221446e-02,  1.28784940e-01, -9.61045548e-02,\n",
       "       -1.81002811e-01, -9.73290578e-02, -6.07260019e-02, -1.13174163e-01,\n",
       "        3.47426540e-04,  1.03144065e-01, -3.28180077e-03,  2.36410974e-03,\n",
       "        5.12351692e-02, -7.70010874e-02,  3.66077349e-02, -1.86633952e-02,\n",
       "       -1.52077630e-01, -9.68194306e-02,  1.86621949e-01,  4.49806787e-02,\n",
       "        1.01013482e-01, -7.17618689e-02,  4.34761904e-02,  1.87773064e-01,\n",
       "        2.72932723e-02,  8.76003578e-02,  1.53202042e-01, -1.16524972e-01,\n",
       "       -4.62573720e-03, -8.90283883e-02, -8.46072882e-02, -7.74677377e-04,\n",
       "        7.69282430e-02,  8.89601409e-02, -4.37439270e-02,  5.44182546e-02,\n",
       "        1.04399778e-01, -6.72258809e-02,  3.21198888e-02, -1.06035352e-01,\n",
       "       -5.12441136e-02, -1.17191024e-01,  4.99421842e-02,  1.04643598e-01,\n",
       "        8.21395293e-02, -1.17208464e-02, -7.18883872e-02, -9.70121752e-03,\n",
       "       -3.95775549e-02,  1.56426698e-01, -3.47774103e-02,  2.49827951e-02,\n",
       "       -3.18914235e-01,  4.98568229e-02,  3.98854502e-02, -5.89614362e-02,\n",
       "       -1.13281667e-01,  7.65031949e-02, -2.75543686e-02, -6.27169088e-02,\n",
       "        2.11218253e-01, -1.01573691e-01,  1.55653417e-01,  3.41839641e-02,\n",
       "       -5.65943867e-02, -5.70113733e-02, -3.71185243e-02, -1.09063713e-02,\n",
       "        5.29169217e-02, -1.22193858e-01, -1.63849577e-01,  6.34787381e-02,\n",
       "        6.20533573e-03,  2.76451539e-02, -1.74034625e-01,  4.20349166e-02,\n",
       "        1.47611395e-01,  5.64039033e-03,  1.29853234e-01,  7.57998750e-02,\n",
       "       -6.06328845e-02,  1.70508444e-01,  1.13291211e-01,  6.17032610e-02,\n",
       "       -1.88581139e-01, -9.11546275e-02,  5.19542508e-02,  4.81598526e-02],\n",
       "      dtype=float32)"
      ]
     },
     "execution_count": 26,
     "metadata": {},
     "output_type": "execute_result"
    }
   ],
   "source": [
    "model.wv.get_normed_vectors()[11]"
   ]
  },
  {
   "cell_type": "code",
   "execution_count": 27,
   "id": "1cefc259-28ea-4a8d-9c24-19fd851a5072",
   "metadata": {},
   "outputs": [
    {
     "data": {
      "text/plain": [
       "(9052, 100)"
      ]
     },
     "execution_count": 27,
     "metadata": {},
     "output_type": "execute_result"
    }
   ],
   "source": [
    "model.wv.get_normed_vectors().shape  # unique words if corpus ka vector representation"
   ]
  },
  {
   "cell_type": "code",
   "execution_count": 28,
   "id": "2879c20a-9419-4cef-b8a8-a3ff65fa2c35",
   "metadata": {},
   "outputs": [],
   "source": [
    "y = model.wv.index_to_key"
   ]
  },
  {
   "cell_type": "code",
   "execution_count": 29,
   "id": "1a32475e-b112-4e4a-b5f7-ea0fa7bc657b",
   "metadata": {},
   "outputs": [
    {
     "data": {
      "text/plain": [
       "['oh',\n",
       " 'know',\n",
       " 'yeah',\n",
       " 'okay',\n",
       " 'well',\n",
       " 'hey',\n",
       " 'right',\n",
       " 'like',\n",
       " 'get',\n",
       " 'gonna',\n",
       " 'ross',\n",
       " 'joey',\n",
       " 'monica',\n",
       " 'chandler',\n",
       " 'uh',\n",
       " 'rachel',\n",
       " 'really',\n",
       " 'go',\n",
       " 'think',\n",
       " 'look',\n",
       " 'one',\n",
       " 'mean',\n",
       " 'see',\n",
       " 'phoebe',\n",
       " 'got',\n",
       " 'want',\n",
       " 'good',\n",
       " 'come',\n",
       " 'god',\n",
       " 'would',\n",
       " 'guys',\n",
       " 'going',\n",
       " 'sorry',\n",
       " 'ok',\n",
       " 'hi',\n",
       " 'great',\n",
       " 'let',\n",
       " 'time',\n",
       " 'tell',\n",
       " 'back',\n",
       " 'say',\n",
       " 'little',\n",
       " 'yes',\n",
       " 'could',\n",
       " 'guy',\n",
       " 'wait',\n",
       " 'love',\n",
       " 'thing',\n",
       " 'something',\n",
       " 'maybe',\n",
       " 'take',\n",
       " 'umm',\n",
       " 'make',\n",
       " 'us',\n",
       " 'huh',\n",
       " 'said',\n",
       " 'way',\n",
       " 'still',\n",
       " 'never',\n",
       " 'much',\n",
       " 'two',\n",
       " 'apartment',\n",
       " 'sure',\n",
       " 'wanna',\n",
       " 'thank',\n",
       " 'wow',\n",
       " 'man',\n",
       " 'need',\n",
       " 'people',\n",
       " 'please',\n",
       " 'big',\n",
       " 'thought',\n",
       " 'believe',\n",
       " 'first',\n",
       " 'fine',\n",
       " 'give',\n",
       " 'talk',\n",
       " 'baby',\n",
       " 'even',\n",
       " 'actually',\n",
       " 'ah',\n",
       " 'work',\n",
       " 'um',\n",
       " 'room',\n",
       " 'night',\n",
       " 'listen',\n",
       " 'new',\n",
       " 'nice',\n",
       " 'anything',\n",
       " 'call',\n",
       " 'thanks',\n",
       " 'central',\n",
       " 'ya',\n",
       " 'perk',\n",
       " 'stuff',\n",
       " 'feel',\n",
       " 'talking',\n",
       " 'day',\n",
       " 'ever',\n",
       " 'last',\n",
       " 'gotta',\n",
       " 'alright',\n",
       " 'getting',\n",
       " 'ooh',\n",
       " 'put',\n",
       " 'cause',\n",
       " 'stop',\n",
       " 'guess',\n",
       " 'nothing',\n",
       " 'honey',\n",
       " 'told',\n",
       " 'around',\n",
       " 'together',\n",
       " 'ohh',\n",
       " 'bye',\n",
       " 'better',\n",
       " 'hello',\n",
       " 'lot',\n",
       " 'someone',\n",
       " 'whoa',\n",
       " 'place',\n",
       " 'rach',\n",
       " 'bad',\n",
       " 'married',\n",
       " 'things',\n",
       " 'friend',\n",
       " 'help',\n",
       " 'made',\n",
       " 'pretty',\n",
       " 'wanted',\n",
       " 'woman',\n",
       " 'name',\n",
       " 'fun',\n",
       " 'end',\n",
       " 'remember',\n",
       " 'credits',\n",
       " 'kinda',\n",
       " 'pheebs',\n",
       " 'girl',\n",
       " 'everything',\n",
       " 'date',\n",
       " 'happy',\n",
       " 'play',\n",
       " 'long',\n",
       " 'enters',\n",
       " 'always',\n",
       " 'tonight',\n",
       " 'looking',\n",
       " 'ready',\n",
       " 'three',\n",
       " 'trying',\n",
       " 'went',\n",
       " 'best',\n",
       " 'happened',\n",
       " 'ask',\n",
       " 'find',\n",
       " 'coming',\n",
       " 'minute',\n",
       " 'hear',\n",
       " 'job',\n",
       " 'left',\n",
       " 'else',\n",
       " 'thinking',\n",
       " 'party',\n",
       " 'wedding',\n",
       " 'kind',\n",
       " 'funny',\n",
       " 'sitting',\n",
       " 'another',\n",
       " 'next',\n",
       " 'phone',\n",
       " 'home',\n",
       " 'keep',\n",
       " 'wrong',\n",
       " 'friends',\n",
       " 'mom',\n",
       " 'dad',\n",
       " 'today',\n",
       " 'door',\n",
       " 'everyone',\n",
       " 'life',\n",
       " 'away',\n",
       " 'mon',\n",
       " 'old',\n",
       " 'whole',\n",
       " 'years',\n",
       " 'try',\n",
       " 'money',\n",
       " 'hard',\n",
       " 'care',\n",
       " 'totally',\n",
       " 'table',\n",
       " 'weird',\n",
       " 'dinner',\n",
       " 'start',\n",
       " 'break',\n",
       " 'office',\n",
       " 'show',\n",
       " 'game',\n",
       " 'year',\n",
       " 'coffee',\n",
       " 'head',\n",
       " 'probably',\n",
       " 'stupid',\n",
       " 'looks',\n",
       " 'done',\n",
       " 'crazy',\n",
       " 'idea',\n",
       " 'couch',\n",
       " 'already',\n",
       " 'yet',\n",
       " 'cool',\n",
       " 'might',\n",
       " 'course',\n",
       " 'everybody',\n",
       " 'stay',\n",
       " 'leave',\n",
       " 'tomorrow',\n",
       " 'meet',\n",
       " 'second',\n",
       " 'saying',\n",
       " 'happen',\n",
       " 'opening',\n",
       " 'ben',\n",
       " 'emma',\n",
       " 'mr',\n",
       " 'wants',\n",
       " 'check',\n",
       " 'anyway',\n",
       " 'supposed',\n",
       " 'part',\n",
       " 'excuse',\n",
       " 'called',\n",
       " 'pick',\n",
       " 'came',\n",
       " 'enough',\n",
       " 'used',\n",
       " 'deal',\n",
       " 'saw',\n",
       " 'problem',\n",
       " 'mike',\n",
       " 'watch',\n",
       " 'telling',\n",
       " 'every',\n",
       " 'live',\n",
       " 'move',\n",
       " 'house',\n",
       " 'may',\n",
       " 'hand',\n",
       " 'later',\n",
       " 'since',\n",
       " 'hell',\n",
       " 'comes',\n",
       " 'making',\n",
       " 'eat',\n",
       " 'morning',\n",
       " 'somebody',\n",
       " 'playing',\n",
       " 'anymore',\n",
       " 'real',\n",
       " 'face',\n",
       " 'must',\n",
       " 'gets',\n",
       " 'couple',\n",
       " 'use',\n",
       " 'ha',\n",
       " 'matter',\n",
       " 'emily',\n",
       " 'five',\n",
       " 'kids',\n",
       " 'also',\n",
       " 'took',\n",
       " 'hot',\n",
       " 'seen',\n",
       " 'mine',\n",
       " 'watching',\n",
       " 'person',\n",
       " 'forget',\n",
       " 'knew',\n",
       " 'cute',\n",
       " 'found',\n",
       " 'heard',\n",
       " 'miss',\n",
       " 'beautiful',\n",
       " 'kiss',\n",
       " 'geller',\n",
       " 'women',\n",
       " 'hate',\n",
       " 'boy',\n",
       " 'hold',\n",
       " 'sister',\n",
       " 'birthday',\n",
       " 'sweet',\n",
       " 'food',\n",
       " 'father',\n",
       " 'gave',\n",
       " 'sleep',\n",
       " 'doctor',\n",
       " 'parents',\n",
       " 'open',\n",
       " 'dr',\n",
       " 'waiting',\n",
       " 'understand',\n",
       " 'says',\n",
       " 'living',\n",
       " 'movie',\n",
       " 'different',\n",
       " 'high',\n",
       " 'uhh',\n",
       " 'bed',\n",
       " 'late',\n",
       " 'question',\n",
       " 'makes',\n",
       " 'bring',\n",
       " 'ow',\n",
       " 'eric',\n",
       " 'hmm',\n",
       " 'amazing',\n",
       " 'ring',\n",
       " 'wearing',\n",
       " 'mind',\n",
       " 'kidding',\n",
       " 'uhm',\n",
       " 'taking',\n",
       " 'four',\n",
       " 'richard',\n",
       " 'number',\n",
       " 'means',\n",
       " 'bathroom',\n",
       " 'naked',\n",
       " 'working',\n",
       " 'wife',\n",
       " 'hair',\n",
       " 'though',\n",
       " 'ahh',\n",
       " 'true',\n",
       " 'moving',\n",
       " 'days',\n",
       " 'picture',\n",
       " 'anyone',\n",
       " 'restaurant',\n",
       " 'gone',\n",
       " 'carol',\n",
       " 'serious',\n",
       " 'bedroom',\n",
       " 'ago',\n",
       " 'world',\n",
       " 'book',\n",
       " 'cat',\n",
       " 'dude',\n",
       " 'fact',\n",
       " 'kitchen',\n",
       " 'aasen',\n",
       " 'car',\n",
       " 'half',\n",
       " 'janice',\n",
       " 'dog',\n",
       " 'sit',\n",
       " 'alone',\n",
       " 'school',\n",
       " 'story',\n",
       " 'minutes',\n",
       " 'bit',\n",
       " 'sounds',\n",
       " 'bing',\n",
       " 'turn',\n",
       " 'pants',\n",
       " 'either',\n",
       " 'mother',\n",
       " 'worry',\n",
       " 'cut',\n",
       " 'hang',\n",
       " 'outside',\n",
       " 'street',\n",
       " 'goes',\n",
       " 'joe',\n",
       " 'without',\n",
       " 'started',\n",
       " 'read',\n",
       " 'six',\n",
       " 'hands',\n",
       " 'hours',\n",
       " 'walk',\n",
       " 'chance',\n",
       " 'met',\n",
       " 'hope',\n",
       " 'wish',\n",
       " 'tv',\n",
       " 'knows',\n",
       " 'important',\n",
       " 'mad',\n",
       " 'set',\n",
       " 'la',\n",
       " 'wh',\n",
       " 'lost',\n",
       " 'em',\n",
       " 'entering',\n",
       " 'easy',\n",
       " 'ass',\n",
       " 'anybody',\n",
       " 'babies',\n",
       " 'times',\n",
       " 'run',\n",
       " 'close',\n",
       " 'seriously',\n",
       " 'wear',\n",
       " 'broke',\n",
       " 'boyfriend',\n",
       " 'front',\n",
       " 'kid',\n",
       " 'seeing',\n",
       " 'girls',\n",
       " 'rest',\n",
       " 'asked',\n",
       " 'perfect',\n",
       " 'reading',\n",
       " 'closing',\n",
       " 'christmas',\n",
       " 'reason',\n",
       " 'throw',\n",
       " 'glad',\n",
       " 'exactly',\n",
       " 'whatever',\n",
       " 'change',\n",
       " 'relationship',\n",
       " 'pregnant',\n",
       " 'giving',\n",
       " 'absolutely',\n",
       " 'sweetie',\n",
       " 'line',\n",
       " 'buy',\n",
       " 'green',\n",
       " 'bet',\n",
       " 'least',\n",
       " 'week',\n",
       " 'hit',\n",
       " 'ho',\n",
       " 'ugh',\n",
       " 'almost',\n",
       " 'luck',\n",
       " 'audition',\n",
       " 'win',\n",
       " 'marry',\n",
       " 'eating',\n",
       " 'lives',\n",
       " 'thanksgiving',\n",
       " 'point',\n",
       " 'many',\n",
       " 'starts',\n",
       " 'finally',\n",
       " 'huge',\n",
       " 'except',\n",
       " 'pay',\n",
       " 'dollars',\n",
       " 'family',\n",
       " 'eyes',\n",
       " 'fire',\n",
       " 'lady',\n",
       " 'walks',\n",
       " 'class',\n",
       " 'walking',\n",
       " 'hour',\n",
       " 'cannot',\n",
       " 'hurt',\n",
       " 'david',\n",
       " 'dance',\n",
       " 'girlfriend',\n",
       " 'kill',\n",
       " 'lunch',\n",
       " 'chair',\n",
       " 'joke',\n",
       " 'dead',\n",
       " 'promise',\n",
       " 'mrs',\n",
       " 'side',\n",
       " 'free',\n",
       " 'news',\n",
       " 'sound',\n",
       " 'welcome',\n",
       " 'definitely',\n",
       " 'soon',\n",
       " 'dress',\n",
       " 'ten',\n",
       " 'word',\n",
       " 'drink',\n",
       " 'talked',\n",
       " 'sick',\n",
       " 'city',\n",
       " 'box',\n",
       " 'scene',\n",
       " 'behind',\n",
       " 'nobody',\n",
       " 'card',\n",
       " 'terrible',\n",
       " 'seven',\n",
       " 'building',\n",
       " 'marriage',\n",
       " 'water',\n",
       " 'answer',\n",
       " 'clothes',\n",
       " 'meant',\n",
       " 'doin',\n",
       " 'thinks',\n",
       " 'susan',\n",
       " 'julie',\n",
       " 'die',\n",
       " 'moment',\n",
       " 'hospital',\n",
       " 'boss',\n",
       " 'song',\n",
       " 'feeling',\n",
       " 'london',\n",
       " 'brother',\n",
       " 'smell',\n",
       " 'lose',\n",
       " 'sometimes',\n",
       " 'eh',\n",
       " 'tape',\n",
       " 'along',\n",
       " 'unless',\n",
       " 'fight',\n",
       " 'standing',\n",
       " 'relax',\n",
       " 'bag',\n",
       " 'son',\n",
       " 'men',\n",
       " 'tribbiani',\n",
       " 'figure',\n",
       " 'commercial',\n",
       " 'hallway',\n",
       " 'monkey',\n",
       " 'ball',\n",
       " 'mark',\n",
       " 'top',\n",
       " 'ice',\n",
       " 'marcel',\n",
       " 'paper',\n",
       " 'message',\n",
       " 'store',\n",
       " 'turns',\n",
       " 'brought',\n",
       " 'actor',\n",
       " 'able',\n",
       " 'tickets',\n",
       " 'forgot',\n",
       " 'yep',\n",
       " 'frank',\n",
       " 'asleep',\n",
       " 'pizza',\n",
       " 'gang',\n",
       " 'gunther',\n",
       " 'window',\n",
       " 'fat',\n",
       " 'special',\n",
       " 'seem',\n",
       " 'liked',\n",
       " 'shower',\n",
       " 'hall',\n",
       " 'gay',\n",
       " 'weeks',\n",
       " 'enter',\n",
       " 'college',\n",
       " 'surprise',\n",
       " 'floor',\n",
       " 'touch',\n",
       " 'plan',\n",
       " 'sir',\n",
       " 'eye',\n",
       " 'dating',\n",
       " 'seems',\n",
       " 'excited',\n",
       " 'york',\n",
       " 'figured',\n",
       " 'hat',\n",
       " 'fault',\n",
       " 'machine',\n",
       " 'roommate',\n",
       " 'drunk',\n",
       " 'ending',\n",
       " 'ohhh',\n",
       " 'fast',\n",
       " 'stand',\n",
       " 'shut',\n",
       " 'holding',\n",
       " 'bob',\n",
       " 'hundred',\n",
       " 'buddy',\n",
       " 'leaving',\n",
       " 'upset',\n",
       " 'charlie',\n",
       " 'eight',\n",
       " 'cry',\n",
       " 'quit',\n",
       " 'asking',\n",
       " 'shot',\n",
       " 'tried',\n",
       " 'seat',\n",
       " 'missed',\n",
       " 'worse',\n",
       " 'takes',\n",
       " 'months',\n",
       " 'likes',\n",
       " 'afraid',\n",
       " 'husband',\n",
       " 'present',\n",
       " 'calling',\n",
       " 'bought',\n",
       " 'middle',\n",
       " 'bucks',\n",
       " 'massage',\n",
       " 'gift',\n",
       " 'daddy',\n",
       " 'knock',\n",
       " 'sleeping',\n",
       " 'heart',\n",
       " 'smart',\n",
       " 'cup',\n",
       " 'kissing',\n",
       " 'running',\n",
       " 'rn',\n",
       " 'hotel',\n",
       " 'chicken',\n",
       " 'finish',\n",
       " 'small',\n",
       " 'ralph',\n",
       " 'lie',\n",
       " 'weekend',\n",
       " 'obviously',\n",
       " 'fair',\n",
       " 'feelings',\n",
       " 'pass',\n",
       " 'child',\n",
       " 'interesting',\n",
       " 'past',\n",
       " 'looked',\n",
       " 'apparently',\n",
       " 'cab',\n",
       " 'picked',\n",
       " 'carrying',\n",
       " 'list',\n",
       " 'candy',\n",
       " 'needs',\n",
       " 'spend',\n",
       " 'inside',\n",
       " 'meeting',\n",
       " 'died',\n",
       " 'shoes',\n",
       " 'yay',\n",
       " 'loved',\n",
       " 'damn',\n",
       " 'worked',\n",
       " 'bar',\n",
       " 'across',\n",
       " 'grandmother',\n",
       " 'kissed',\n",
       " 'dear',\n",
       " 'returning',\n",
       " 'horrible',\n",
       " 'shirt',\n",
       " 'duck',\n",
       " 'sad',\n",
       " 'cold',\n",
       " 'straight',\n",
       " 'lucky',\n",
       " 'order',\n",
       " 'pete',\n",
       " 'yesterday',\n",
       " 'felt',\n",
       " 'fired',\n",
       " 'moved',\n",
       " 'butt',\n",
       " 'milk',\n",
       " 'putting',\n",
       " 'written',\n",
       " 'drake',\n",
       " 'slept',\n",
       " 'wha',\n",
       " 'wine',\n",
       " 'wondering',\n",
       " 'although',\n",
       " 'body',\n",
       " 'write',\n",
       " 'cake',\n",
       " 'extra',\n",
       " 'barry',\n",
       " 'sexy',\n",
       " 'third',\n",
       " 'jack',\n",
       " 'business',\n",
       " 'entire',\n",
       " 'tag',\n",
       " 'freak',\n",
       " 'crying',\n",
       " 'woah',\n",
       " 'wonderful',\n",
       " 'nope',\n",
       " 'happens',\n",
       " 'lauren',\n",
       " 'feels',\n",
       " 'plus',\n",
       " 'dressed',\n",
       " 'scared',\n",
       " 'ex',\n",
       " 'underwear',\n",
       " 'paul',\n",
       " 'boat',\n",
       " 'bunch',\n",
       " 'keys',\n",
       " 'full',\n",
       " 'congratulations',\n",
       " 'forever',\n",
       " 'far',\n",
       " 'breakfast',\n",
       " 'piece',\n",
       " 'sense',\n",
       " 'sent',\n",
       " 'santa',\n",
       " 'lying',\n",
       " 'none',\n",
       " 'incredible',\n",
       " 'stuck',\n",
       " 'dream',\n",
       " 'less',\n",
       " 'realize',\n",
       " 'bitch',\n",
       " 'aww',\n",
       " 'young',\n",
       " 'grab',\n",
       " 'joshua',\n",
       " 'words',\n",
       " 'crap',\n",
       " 'save',\n",
       " 'catch',\n",
       " 'chef',\n",
       " 'learn',\n",
       " 'decide',\n",
       " 'month',\n",
       " 'sandwich',\n",
       " 'stick',\n",
       " 'museum',\n",
       " 'aunt',\n",
       " 'writing',\n",
       " 'kathy',\n",
       " 'smoke',\n",
       " 'works',\n",
       " 'spent',\n",
       " 'clock',\n",
       " 'worst',\n",
       " 'tough',\n",
       " 'ladies',\n",
       " 'cookies',\n",
       " 'seconds',\n",
       " 'counter',\n",
       " 'amy',\n",
       " 'aw',\n",
       " 'favorite',\n",
       " 'presents',\n",
       " 'fall',\n",
       " 'idiot',\n",
       " 'secret',\n",
       " 'push',\n",
       " 'mistake',\n",
       " 'beer',\n",
       " 'clean',\n",
       " 'coat',\n",
       " 'clear',\n",
       " 'send',\n",
       " 'elizabeth',\n",
       " 'trip',\n",
       " 'goin',\n",
       " 'questions',\n",
       " 'park',\n",
       " 'pee',\n",
       " 'hanging',\n",
       " 'children',\n",
       " 'music',\n",
       " 'case',\n",
       " 'gotten',\n",
       " 'sign',\n",
       " 'club',\n",
       " 'plans',\n",
       " 'ride',\n",
       " 'blah',\n",
       " 'calm',\n",
       " 'swear',\n",
       " 'control',\n",
       " 'finished',\n",
       " 'red',\n",
       " 'fake',\n",
       " 'drinking',\n",
       " 'turkey',\n",
       " 'mona',\n",
       " 'dancing',\n",
       " 'ones',\n",
       " 'completely',\n",
       " 'wrote',\n",
       " 'quick',\n",
       " 'boxes',\n",
       " 'divorce',\n",
       " 'kept',\n",
       " 'turned',\n",
       " 'town',\n",
       " 'decided',\n",
       " 'owe',\n",
       " 'blue',\n",
       " 'star',\n",
       " 'twenty',\n",
       " 'enjoy',\n",
       " 'neither',\n",
       " 'conversation',\n",
       " 'single',\n",
       " 'roll',\n",
       " 'sing',\n",
       " 'nervous',\n",
       " 'video',\n",
       " 'appreciate',\n",
       " 'unbelievable',\n",
       " 'airport',\n",
       " 'strong',\n",
       " 'erm',\n",
       " 'laugh',\n",
       " 'nooo',\n",
       " 'damnit',\n",
       " 'future',\n",
       " 'chick',\n",
       " 'trouble',\n",
       " 'early',\n",
       " 'ahead',\n",
       " 'ran',\n",
       " 'daughter',\n",
       " 'fell',\n",
       " 'bigger',\n",
       " 'excellent',\n",
       " 'mindy',\n",
       " 'interview',\n",
       " 'feet',\n",
       " 'loves',\n",
       " 'happening',\n",
       " 'instead',\n",
       " 'imagine',\n",
       " 'tired',\n",
       " 'tulsa',\n",
       " 'divorced',\n",
       " 'ugly',\n",
       " 'buffay',\n",
       " 'worried',\n",
       " 'showing',\n",
       " 'romantic',\n",
       " 'cheese',\n",
       " 'propose',\n",
       " 'invited',\n",
       " 'rules',\n",
       " 'hug',\n",
       " 'key',\n",
       " 'sort',\n",
       " 'kick',\n",
       " 'acting',\n",
       " 'sees',\n",
       " 'jealous',\n",
       " 'oooh',\n",
       " 'assistant',\n",
       " 'originally',\n",
       " 'grade',\n",
       " 'light',\n",
       " 'plate',\n",
       " 'worth',\n",
       " 'shopping',\n",
       " 'besides',\n",
       " 'listening',\n",
       " 'jill',\n",
       " 'invite',\n",
       " 'fridge',\n",
       " 'singing',\n",
       " 'mouth',\n",
       " 'wake',\n",
       " 'professor',\n",
       " 'quite',\n",
       " 'explain',\n",
       " 'needed',\n",
       " 'broken',\n",
       " 'speak',\n",
       " 'pull',\n",
       " 'noo',\n",
       " 'lesbian',\n",
       " 'step',\n",
       " 'white',\n",
       " 'speech',\n",
       " 'porsche',\n",
       " 'comfortable',\n",
       " 'known',\n",
       " 'soap',\n",
       " 'laughing',\n",
       " 'played',\n",
       " 'suck',\n",
       " 'somewhere',\n",
       " 'staring',\n",
       " 'cooking',\n",
       " 'lovely',\n",
       " 'plane',\n",
       " 'using',\n",
       " 'jokes',\n",
       " 'wonder',\n",
       " 'sweater',\n",
       " 'hoping',\n",
       " 'black',\n",
       " 'purse',\n",
       " 'helping',\n",
       " 'team',\n",
       " 'mmm',\n",
       " 'fancy',\n",
       " 'borrow',\n",
       " 'flowers',\n",
       " 'band',\n",
       " 'share',\n",
       " 'company',\n",
       " 'leg',\n",
       " 'paid',\n",
       " 'count',\n",
       " 'names',\n",
       " 'mess',\n",
       " 'truth',\n",
       " 'pictures',\n",
       " 'phoebs',\n",
       " 'starting',\n",
       " 'changed',\n",
       " 'lights',\n",
       " 'desk',\n",
       " 'bra',\n",
       " 'sucks',\n",
       " 'air',\n",
       " 'calls',\n",
       " 'grow',\n",
       " 'tiny',\n",
       " 'exciting',\n",
       " 'vegas',\n",
       " 'pain',\n",
       " 'ate',\n",
       " 'credit',\n",
       " 'tea',\n",
       " 'drive',\n",
       " 'flight',\n",
       " 'opens',\n",
       " 'checking',\n",
       " 'cover',\n",
       " 'paolo',\n",
       " 'woo',\n",
       " 'gosh',\n",
       " 'sell',\n",
       " 'smelly',\n",
       " 'shoot',\n",
       " 'cares',\n",
       " 'bird',\n",
       " 'notice',\n",
       " 'handle',\n",
       " 'situation',\n",
       " 'soo',\n",
       " 'th',\n",
       " 'shop',\n",
       " 'bottle',\n",
       " 'transcribed',\n",
       " 'rings',\n",
       " 'freaked',\n",
       " 'bill',\n",
       " 'stole',\n",
       " 'football',\n",
       " 'crush',\n",
       " 'dirty',\n",
       " 'teach',\n",
       " 'fan',\n",
       " 'beach',\n",
       " 'anniversary',\n",
       " 'gym',\n",
       " 'interested',\n",
       " 'juice',\n",
       " 'guest',\n",
       " 'smoking',\n",
       " 'apologize',\n",
       " 'boys',\n",
       " 'knicks',\n",
       " 'pen',\n",
       " 'closet',\n",
       " 'double',\n",
       " 'heads',\n",
       " 'goodbye',\n",
       " 'ridiculous',\n",
       " 'birth',\n",
       " 'trust',\n",
       " 'ursula',\n",
       " 'hide',\n",
       " 'stopped',\n",
       " 'dry',\n",
       " 'allowed',\n",
       " 'lived',\n",
       " 'engaged',\n",
       " 'waitress',\n",
       " 'answers',\n",
       " 'taken',\n",
       " 'age',\n",
       " 'board',\n",
       " 'sec',\n",
       " ...]"
      ]
     },
     "execution_count": 29,
     "metadata": {},
     "output_type": "execute_result"
    }
   ],
   "source": [
    "y"
   ]
  },
  {
   "cell_type": "code",
   "execution_count": 30,
   "id": "ba0cd8f4-29ce-4efa-8ad0-fe4d0883eb9f",
   "metadata": {},
   "outputs": [],
   "source": [
    "from sklearn.decomposition import PCA #used PCA to reduce embeddings so I can visualize them in 2D/3D"
   ]
  },
  {
   "cell_type": "code",
   "execution_count": 31,
   "id": "9b32a8ad-e1d2-42f0-bdb1-e4f3af631025",
   "metadata": {},
   "outputs": [],
   "source": [
    "pca = PCA(n_components=3)"
   ]
  },
  {
   "cell_type": "code",
   "execution_count": 32,
   "id": "5c82532a-1928-4e7d-9f09-38c81c59c235",
   "metadata": {},
   "outputs": [],
   "source": [
    "X = pca.fit_transform(model.wv.get_normed_vectors())"
   ]
  },
  {
   "cell_type": "code",
   "execution_count": 33,
   "id": "5c9fba06-44ab-4fb1-b0f7-5d7d9350bd4f",
   "metadata": {},
   "outputs": [
    {
     "data": {
      "text/plain": [
       "(9052, 3)"
      ]
     },
     "execution_count": 33,
     "metadata": {},
     "output_type": "execute_result"
    }
   ],
   "source": [
    "X.shape #dimension reduced from 100 to 3"
   ]
  },
  {
   "cell_type": "code",
   "execution_count": 34,
   "id": "c9ab3f53-3713-45d3-ab30-b3420c995939",
   "metadata": {},
   "outputs": [
    {
     "data": {
      "application/vnd.plotly.v1+json": {
       "config": {
        "plotlyServerURL": "https://plot.ly"
       },
       "data": [
        {
         "hovertemplate": "color=oh<br>0=%{x}<br>1=%{y}<br>2=%{z}<extra></extra>",
         "legendgroup": "oh",
         "marker": {
          "color": "#636efa",
          "symbol": "circle"
         },
         "mode": "markers",
         "name": "oh",
         "scene": "scene",
         "showlegend": true,
         "type": "scatter3d",
         "x": {
          "_inputArray": {
           "0": 0.42017123103141785,
           "bdata": "ryDXPg==",
           "dtype": "f4",
           "shape": "1"
          },
          "bdata": "ryDXPg==",
          "dtype": "f4"
         },
         "y": {
          "_inputArray": {
           "0": -0.03311389684677124,
           "bdata": "cKIHvQ==",
           "dtype": "f4",
           "shape": "1"
          },
          "bdata": "cKIHvQ==",
          "dtype": "f4"
         },
         "z": {
          "_inputArray": {
           "0": -0.0524769127368927,
           "bdata": "CPJWvQ==",
           "dtype": "f4",
           "shape": "1"
          },
          "bdata": "CPJWvQ==",
          "dtype": "f4"
         }
        },
        {
         "hovertemplate": "color=know<br>0=%{x}<br>1=%{y}<br>2=%{z}<extra></extra>",
         "legendgroup": "know",
         "marker": {
          "color": "#EF553B",
          "symbol": "circle"
         },
         "mode": "markers",
         "name": "know",
         "scene": "scene",
         "showlegend": true,
         "type": "scatter3d",
         "x": {
          "_inputArray": {
           "0": 0.534893274307251,
           "bdata": "xO4IPw==",
           "dtype": "f4",
           "shape": "1"
          },
          "bdata": "xO4IPw==",
          "dtype": "f4"
         },
         "y": {
          "_inputArray": {
           "0": 0.1795434206724167,
           "bdata": "O9o3Pg==",
           "dtype": "f4",
           "shape": "1"
          },
          "bdata": "O9o3Pg==",
          "dtype": "f4"
         },
         "z": {
          "_inputArray": {
           "0": 0.0566202849149704,
           "bdata": "rOpnPQ==",
           "dtype": "f4",
           "shape": "1"
          },
          "bdata": "rOpnPQ==",
          "dtype": "f4"
         }
        },
        {
         "hovertemplate": "color=yeah<br>0=%{x}<br>1=%{y}<br>2=%{z}<extra></extra>",
         "legendgroup": "yeah",
         "marker": {
          "color": "#00cc96",
          "symbol": "circle"
         },
         "mode": "markers",
         "name": "yeah",
         "scene": "scene",
         "showlegend": true,
         "type": "scatter3d",
         "x": {
          "_inputArray": {
           "0": 0.4498111605644226,
           "bdata": "pk3mPg==",
           "dtype": "f4",
           "shape": "1"
          },
          "bdata": "pk3mPg==",
          "dtype": "f4"
         },
         "y": {
          "_inputArray": {
           "0": 0.06442248821258545,
           "bdata": "8O+DPQ==",
           "dtype": "f4",
           "shape": "1"
          },
          "bdata": "8O+DPQ==",
          "dtype": "f4"
         },
         "z": {
          "_inputArray": {
           "0": -0.08265998959541321,
           "bdata": "pEmpvQ==",
           "dtype": "f4",
           "shape": "1"
          },
          "bdata": "pEmpvQ==",
          "dtype": "f4"
         }
        },
        {
         "hovertemplate": "color=okay<br>0=%{x}<br>1=%{y}<br>2=%{z}<extra></extra>",
         "legendgroup": "okay",
         "marker": {
          "color": "#ab63fa",
          "symbol": "circle"
         },
         "mode": "markers",
         "name": "okay",
         "scene": "scene",
         "showlegend": true,
         "type": "scatter3d",
         "x": {
          "_inputArray": {
           "0": 0.48550498485565186,
           "bdata": "HJT4Pg==",
           "dtype": "f4",
           "shape": "1"
          },
          "bdata": "HJT4Pg==",
          "dtype": "f4"
         },
         "y": {
          "_inputArray": {
           "0": 0.0047071874141693115,
           "bdata": "wD6aOw==",
           "dtype": "f4",
           "shape": "1"
          },
          "bdata": "wD6aOw==",
          "dtype": "f4"
         },
         "z": {
          "_inputArray": {
           "0": -0.00905415415763855,
           "bdata": "4FcUvA==",
           "dtype": "f4",
           "shape": "1"
          },
          "bdata": "4FcUvA==",
          "dtype": "f4"
         }
        },
        {
         "hovertemplate": "color=well<br>0=%{x}<br>1=%{y}<br>2=%{z}<extra></extra>",
         "legendgroup": "well",
         "marker": {
          "color": "#FFA15A",
          "symbol": "circle"
         },
         "mode": "markers",
         "name": "well",
         "scene": "scene",
         "showlegend": true,
         "type": "scatter3d",
         "x": {
          "_inputArray": {
           "0": 0.4619375467300415,
           "bdata": "FIPsPg==",
           "dtype": "f4",
           "shape": "1"
          },
          "bdata": "FIPsPg==",
          "dtype": "f4"
         },
         "y": {
          "_inputArray": {
           "0": 0.06465217471122742,
           "bdata": "XGiEPQ==",
           "dtype": "f4",
           "shape": "1"
          },
          "bdata": "XGiEPQ==",
          "dtype": "f4"
         },
         "z": {
          "_inputArray": {
           "0": 0.013803213834762573,
           "bdata": "4CZiPA==",
           "dtype": "f4",
           "shape": "1"
          },
          "bdata": "4CZiPA==",
          "dtype": "f4"
         }
        },
        {
         "hovertemplate": "color=hey<br>0=%{x}<br>1=%{y}<br>2=%{z}<extra></extra>",
         "legendgroup": "hey",
         "marker": {
          "color": "#19d3f3",
          "symbol": "circle"
         },
         "mode": "markers",
         "name": "hey",
         "scene": "scene",
         "showlegend": true,
         "type": "scatter3d",
         "x": {
          "_inputArray": {
           "0": 0.3866269588470459,
           "bdata": "+PPFPg==",
           "dtype": "f4",
           "shape": "1"
          },
          "bdata": "+PPFPg==",
          "dtype": "f4"
         },
         "y": {
          "_inputArray": {
           "0": -0.07052464783191681,
           "bdata": "Om+QvQ==",
           "dtype": "f4",
           "shape": "1"
          },
          "bdata": "Om+QvQ==",
          "dtype": "f4"
         },
         "z": {
          "_inputArray": {
           "0": 0.046608418226242065,
           "bdata": "eOg+PQ==",
           "dtype": "f4",
           "shape": "1"
          },
          "bdata": "eOg+PQ==",
          "dtype": "f4"
         }
        },
        {
         "hovertemplate": "color=right<br>0=%{x}<br>1=%{y}<br>2=%{z}<extra></extra>",
         "legendgroup": "right",
         "marker": {
          "color": "#FF6692",
          "symbol": "circle"
         },
         "mode": "markers",
         "name": "right",
         "scene": "scene",
         "showlegend": true,
         "type": "scatter3d",
         "x": {
          "_inputArray": {
           "0": 0.45218223333358765,
           "bdata": "boTnPg==",
           "dtype": "f4",
           "shape": "1"
          },
          "bdata": "boTnPg==",
          "dtype": "f4"
         },
         "y": {
          "_inputArray": {
           "0": -0.04163457453250885,
           "bdata": "BIkqvQ==",
           "dtype": "f4",
           "shape": "1"
          },
          "bdata": "BIkqvQ==",
          "dtype": "f4"
         },
         "z": {
          "_inputArray": {
           "0": -0.02054286003112793,
           "bdata": "gEmovA==",
           "dtype": "f4",
           "shape": "1"
          },
          "bdata": "gEmovA==",
          "dtype": "f4"
         }
        },
        {
         "hovertemplate": "color=like<br>0=%{x}<br>1=%{y}<br>2=%{z}<extra></extra>",
         "legendgroup": "like",
         "marker": {
          "color": "#B6E880",
          "symbol": "circle"
         },
         "mode": "markers",
         "name": "like",
         "scene": "scene",
         "showlegend": true,
         "type": "scatter3d",
         "x": {
          "_inputArray": {
           "0": 0.38045838475227356,
           "bdata": "ccvCPg==",
           "dtype": "f4",
           "shape": "1"
          },
          "bdata": "ccvCPg==",
          "dtype": "f4"
         },
         "y": {
          "_inputArray": {
           "0": 0.07302343845367432,
           "bdata": "UI2VPQ==",
           "dtype": "f4",
           "shape": "1"
          },
          "bdata": "UI2VPQ==",
          "dtype": "f4"
         },
         "z": {
          "_inputArray": {
           "0": -0.004283130168914795,
           "bdata": "gFmMuw==",
           "dtype": "f4",
           "shape": "1"
          },
          "bdata": "gFmMuw==",
          "dtype": "f4"
         }
        },
        {
         "hovertemplate": "color=get<br>0=%{x}<br>1=%{y}<br>2=%{z}<extra></extra>",
         "legendgroup": "get",
         "marker": {
          "color": "#FF97FF",
          "symbol": "circle"
         },
         "mode": "markers",
         "name": "get",
         "scene": "scene",
         "showlegend": true,
         "type": "scatter3d",
         "x": {
          "_inputArray": {
           "0": 0.3745327293872833,
           "bdata": "wcK/Pg==",
           "dtype": "f4",
           "shape": "1"
          },
          "bdata": "wcK/Pg==",
          "dtype": "f4"
         },
         "y": {
          "_inputArray": {
           "0": -0.00495726615190506,
           "bdata": "kHCiuw==",
           "dtype": "f4",
           "shape": "1"
          },
          "bdata": "kHCiuw==",
          "dtype": "f4"
         },
         "z": {
          "_inputArray": {
           "0": 0.08030050992965698,
           "bdata": "mHSkPQ==",
           "dtype": "f4",
           "shape": "1"
          },
          "bdata": "mHSkPQ==",
          "dtype": "f4"
         }
        },
        {
         "hovertemplate": "color=gonna<br>0=%{x}<br>1=%{y}<br>2=%{z}<extra></extra>",
         "legendgroup": "gonna",
         "marker": {
          "color": "#FECB52",
          "symbol": "circle"
         },
         "mode": "markers",
         "name": "gonna",
         "scene": "scene",
         "showlegend": true,
         "type": "scatter3d",
         "x": {
          "_inputArray": {
           "0": 0.5274049639701843,
           "bdata": "AwQHPw==",
           "dtype": "f4",
           "shape": "1"
          },
          "bdata": "AwQHPw==",
          "dtype": "f4"
         },
         "y": {
          "_inputArray": {
           "0": -0.04841022193431854,
           "bdata": "zElGvQ==",
           "dtype": "f4",
           "shape": "1"
          },
          "bdata": "zElGvQ==",
          "dtype": "f4"
         },
         "z": {
          "_inputArray": {
           "0": 0.08377103507518768,
           "bdata": "JpCrPQ==",
           "dtype": "f4",
           "shape": "1"
          },
          "bdata": "JpCrPQ==",
          "dtype": "f4"
         }
        },
        {
         "hovertemplate": "color=ross<br>0=%{x}<br>1=%{y}<br>2=%{z}<extra></extra>",
         "legendgroup": "ross",
         "marker": {
          "color": "#636efa",
          "symbol": "circle"
         },
         "mode": "markers",
         "name": "ross",
         "scene": "scene",
         "showlegend": true,
         "type": "scatter3d",
         "x": {
          "_inputArray": {
           "0": 0.37009137868881226,
           "bdata": "nny9Pg==",
           "dtype": "f4",
           "shape": "1"
          },
          "bdata": "nny9Pg==",
          "dtype": "f4"
         },
         "y": {
          "_inputArray": {
           "0": -0.47800248861312866,
           "bdata": "vrz0vg==",
           "dtype": "f4",
           "shape": "1"
          },
          "bdata": "vrz0vg==",
          "dtype": "f4"
         },
         "z": {
          "_inputArray": {
           "0": 0.17389725148677826,
           "bdata": "HxIyPg==",
           "dtype": "f4",
           "shape": "1"
          },
          "bdata": "HxIyPg==",
          "dtype": "f4"
         }
        },
        {
         "hovertemplate": "color=joey<br>0=%{x}<br>1=%{y}<br>2=%{z}<extra></extra>",
         "legendgroup": "joey",
         "marker": {
          "color": "#EF553B",
          "symbol": "circle"
         },
         "mode": "markers",
         "name": "joey",
         "scene": "scene",
         "showlegend": true,
         "type": "scatter3d",
         "x": {
          "_inputArray": {
           "0": 0.232444167137146,
           "bdata": "2AVuPg==",
           "dtype": "f4",
           "shape": "1"
          },
          "bdata": "2AVuPg==",
          "dtype": "f4"
         },
         "y": {
          "_inputArray": {
           "0": -0.43379712104797363,
           "bdata": "qBrevg==",
           "dtype": "f4",
           "shape": "1"
          },
          "bdata": "qBrevg==",
          "dtype": "f4"
         },
         "z": {
          "_inputArray": {
           "0": 0.26582053303718567,
           "bdata": "oRmIPg==",
           "dtype": "f4",
           "shape": "1"
          },
          "bdata": "oRmIPg==",
          "dtype": "f4"
         }
        },
        {
         "hovertemplate": "color=monica<br>0=%{x}<br>1=%{y}<br>2=%{z}<extra></extra>",
         "legendgroup": "monica",
         "marker": {
          "color": "#00cc96",
          "symbol": "circle"
         },
         "mode": "markers",
         "name": "monica",
         "scene": "scene",
         "showlegend": true,
         "type": "scatter3d",
         "x": {
          "_inputArray": {
           "0": 0.2412850260734558,
           "bdata": "bBN3Pg==",
           "dtype": "f4",
           "shape": "1"
          },
          "bdata": "bBN3Pg==",
          "dtype": "f4"
         },
         "y": {
          "_inputArray": {
           "0": -0.48526620864868164,
           "bdata": "0HT4vg==",
           "dtype": "f4",
           "shape": "1"
          },
          "bdata": "0HT4vg==",
          "dtype": "f4"
         },
         "z": {
          "_inputArray": {
           "0": 0.26169300079345703,
           "bdata": "oPyFPg==",
           "dtype": "f4",
           "shape": "1"
          },
          "bdata": "oPyFPg==",
          "dtype": "f4"
         }
        },
        {
         "hovertemplate": "color=chandler<br>0=%{x}<br>1=%{y}<br>2=%{z}<extra></extra>",
         "legendgroup": "chandler",
         "marker": {
          "color": "#ab63fa",
          "symbol": "circle"
         },
         "mode": "markers",
         "name": "chandler",
         "scene": "scene",
         "showlegend": true,
         "type": "scatter3d",
         "x": {
          "_inputArray": {
           "0": 0.18701092898845673,
           "bdata": "y38/Pg==",
           "dtype": "f4",
           "shape": "1"
          },
          "bdata": "y38/Pg==",
          "dtype": "f4"
         },
         "y": {
          "_inputArray": {
           "0": -0.3923482894897461,
           "bdata": "4OHIvg==",
           "dtype": "f4",
           "shape": "1"
          },
          "bdata": "4OHIvg==",
          "dtype": "f4"
         },
         "z": {
          "_inputArray": {
           "0": 0.336286723613739,
           "bdata": "xi2sPg==",
           "dtype": "f4",
           "shape": "1"
          },
          "bdata": "xi2sPg==",
          "dtype": "f4"
         }
        },
        {
         "hovertemplate": "color=uh<br>0=%{x}<br>1=%{y}<br>2=%{z}<extra></extra>",
         "legendgroup": "uh",
         "marker": {
          "color": "#FFA15A",
          "symbol": "circle"
         },
         "mode": "markers",
         "name": "uh",
         "scene": "scene",
         "showlegend": true,
         "type": "scatter3d",
         "x": {
          "_inputArray": {
           "0": 0.3822210133075714,
           "bdata": "ebLDPg==",
           "dtype": "f4",
           "shape": "1"
          },
          "bdata": "ebLDPg==",
          "dtype": "f4"
         },
         "y": {
          "_inputArray": {
           "0": -0.052431441843509674,
           "bdata": "WsJWvQ==",
           "dtype": "f4",
           "shape": "1"
          },
          "bdata": "WsJWvQ==",
          "dtype": "f4"
         },
         "z": {
          "_inputArray": {
           "0": -0.054926931858062744,
           "bdata": "EPtgvQ==",
           "dtype": "f4",
           "shape": "1"
          },
          "bdata": "EPtgvQ==",
          "dtype": "f4"
         }
        },
        {
         "hovertemplate": "color=rachel<br>0=%{x}<br>1=%{y}<br>2=%{z}<extra></extra>",
         "legendgroup": "rachel",
         "marker": {
          "color": "#19d3f3",
          "symbol": "circle"
         },
         "mode": "markers",
         "name": "rachel",
         "scene": "scene",
         "showlegend": true,
         "type": "scatter3d",
         "x": {
          "_inputArray": {
           "0": 0.3029935359954834,
           "bdata": "+CGbPg==",
           "dtype": "f4",
           "shape": "1"
          },
          "bdata": "+CGbPg==",
          "dtype": "f4"
         },
         "y": {
          "_inputArray": {
           "0": -0.49142611026763916,
           "bdata": "NJz7vg==",
           "dtype": "f4",
           "shape": "1"
          },
          "bdata": "NJz7vg==",
          "dtype": "f4"
         },
         "z": {
          "_inputArray": {
           "0": 0.26398226618766785,
           "bdata": "ryiHPg==",
           "dtype": "f4",
           "shape": "1"
          },
          "bdata": "ryiHPg==",
          "dtype": "f4"
         }
        },
        {
         "hovertemplate": "color=really<br>0=%{x}<br>1=%{y}<br>2=%{z}<extra></extra>",
         "legendgroup": "really",
         "marker": {
          "color": "#FF6692",
          "symbol": "circle"
         },
         "mode": "markers",
         "name": "really",
         "scene": "scene",
         "showlegend": true,
         "type": "scatter3d",
         "x": {
          "_inputArray": {
           "0": 0.5089091658592224,
           "bdata": "30cCPw==",
           "dtype": "f4",
           "shape": "1"
          },
          "bdata": "30cCPw==",
          "dtype": "f4"
         },
         "y": {
          "_inputArray": {
           "0": 0.12197715044021606,
           "bdata": "KM/5PQ==",
           "dtype": "f4",
           "shape": "1"
          },
          "bdata": "KM/5PQ==",
          "dtype": "f4"
         },
         "z": {
          "_inputArray": {
           "0": 0.021561801433563232,
           "bdata": "YKKwPA==",
           "dtype": "f4",
           "shape": "1"
          },
          "bdata": "YKKwPA==",
          "dtype": "f4"
         }
        },
        {
         "hovertemplate": "color=go<br>0=%{x}<br>1=%{y}<br>2=%{z}<extra></extra>",
         "legendgroup": "go",
         "marker": {
          "color": "#B6E880",
          "symbol": "circle"
         },
         "mode": "markers",
         "name": "go",
         "scene": "scene",
         "showlegend": true,
         "type": "scatter3d",
         "x": {
          "_inputArray": {
           "0": 0.4460721015930176,
           "bdata": "kGPkPg==",
           "dtype": "f4",
           "shape": "1"
          },
          "bdata": "kGPkPg==",
          "dtype": "f4"
         },
         "y": {
          "_inputArray": {
           "0": -0.11466511338949203,
           "bdata": "i9XqvQ==",
           "dtype": "f4",
           "shape": "1"
          },
          "bdata": "i9XqvQ==",
          "dtype": "f4"
         },
         "z": {
          "_inputArray": {
           "0": 0.032520949840545654,
           "bdata": "sDQFPQ==",
           "dtype": "f4",
           "shape": "1"
          },
          "bdata": "sDQFPQ==",
          "dtype": "f4"
         }
        },
        {
         "hovertemplate": "color=think<br>0=%{x}<br>1=%{y}<br>2=%{z}<extra></extra>",
         "legendgroup": "think",
         "marker": {
          "color": "#FF97FF",
          "symbol": "circle"
         },
         "mode": "markers",
         "name": "think",
         "scene": "scene",
         "showlegend": true,
         "type": "scatter3d",
         "x": {
          "_inputArray": {
           "0": 0.4874432682991028,
           "bdata": "KpL5Pg==",
           "dtype": "f4",
           "shape": "1"
          },
          "bdata": "KpL5Pg==",
          "dtype": "f4"
         },
         "y": {
          "_inputArray": {
           "0": 0.04017210006713867,
           "bdata": "gIskPQ==",
           "dtype": "f4",
           "shape": "1"
          },
          "bdata": "gIskPQ==",
          "dtype": "f4"
         },
         "z": {
          "_inputArray": {
           "0": -0.049489378929138184,
           "bdata": "YLVKvQ==",
           "dtype": "f4",
           "shape": "1"
          },
          "bdata": "YLVKvQ==",
          "dtype": "f4"
         }
        },
        {
         "hovertemplate": "color=look<br>0=%{x}<br>1=%{y}<br>2=%{z}<extra></extra>",
         "legendgroup": "look",
         "marker": {
          "color": "#FECB52",
          "symbol": "circle"
         },
         "mode": "markers",
         "name": "look",
         "scene": "scene",
         "showlegend": true,
         "type": "scatter3d",
         "x": {
          "_inputArray": {
           "0": 0.4273357689380646,
           "bdata": "wcvaPg==",
           "dtype": "f4",
           "shape": "1"
          },
          "bdata": "wcvaPg==",
          "dtype": "f4"
         },
         "y": {
          "_inputArray": {
           "0": 0.006403475999832153,
           "bdata": "QNTROw==",
           "dtype": "f4",
           "shape": "1"
          },
          "bdata": "QNTROw==",
          "dtype": "f4"
         },
         "z": {
          "_inputArray": {
           "0": 0.06473897397518158,
           "bdata": "3pWEPQ==",
           "dtype": "f4",
           "shape": "1"
          },
          "bdata": "3pWEPQ==",
          "dtype": "f4"
         }
        },
        {
         "hovertemplate": "color=one<br>0=%{x}<br>1=%{y}<br>2=%{z}<extra></extra>",
         "legendgroup": "one",
         "marker": {
          "color": "#636efa",
          "symbol": "circle"
         },
         "mode": "markers",
         "name": "one",
         "scene": "scene",
         "showlegend": true,
         "type": "scatter3d",
         "x": {
          "_inputArray": {
           "0": 0.34886613488197327,
           "bdata": "lZ6yPg==",
           "dtype": "f4",
           "shape": "1"
          },
          "bdata": "lZ6yPg==",
          "dtype": "f4"
         },
         "y": {
          "_inputArray": {
           "0": 0.07454399764537811,
           "bdata": "hqqYPQ==",
           "dtype": "f4",
           "shape": "1"
          },
          "bdata": "hqqYPQ==",
          "dtype": "f4"
         },
         "z": {
          "_inputArray": {
           "0": 0.12581351399421692,
           "bdata": "QtUAPg==",
           "dtype": "f4",
           "shape": "1"
          },
          "bdata": "QtUAPg==",
          "dtype": "f4"
         }
        },
        {
         "hovertemplate": "color=mean<br>0=%{x}<br>1=%{y}<br>2=%{z}<extra></extra>",
         "legendgroup": "mean",
         "marker": {
          "color": "#EF553B",
          "symbol": "circle"
         },
         "mode": "markers",
         "name": "mean",
         "scene": "scene",
         "showlegend": true,
         "type": "scatter3d",
         "x": {
          "_inputArray": {
           "0": 0.47599154710769653,
           "bdata": "KrXzPg==",
           "dtype": "f4",
           "shape": "1"
          },
          "bdata": "KrXzPg==",
          "dtype": "f4"
         },
         "y": {
          "_inputArray": {
           "0": 0.1708274632692337,
           "bdata": "Ze0uPg==",
           "dtype": "f4",
           "shape": "1"
          },
          "bdata": "Ze0uPg==",
          "dtype": "f4"
         },
         "z": {
          "_inputArray": {
           "0": 0.06460191309452057,
           "bdata": "Ak6EPQ==",
           "dtype": "f4",
           "shape": "1"
          },
          "bdata": "Ak6EPQ==",
          "dtype": "f4"
         }
        },
        {
         "hovertemplate": "color=see<br>0=%{x}<br>1=%{y}<br>2=%{z}<extra></extra>",
         "legendgroup": "see",
         "marker": {
          "color": "#00cc96",
          "symbol": "circle"
         },
         "mode": "markers",
         "name": "see",
         "scene": "scene",
         "showlegend": true,
         "type": "scatter3d",
         "x": {
          "_inputArray": {
           "0": 0.4230569303035736,
           "bdata": "65rYPg==",
           "dtype": "f4",
           "shape": "1"
          },
          "bdata": "65rYPg==",
          "dtype": "f4"
         },
         "y": {
          "_inputArray": {
           "0": -0.024635598063468933,
           "bdata": "mNDJvA==",
           "dtype": "f4",
           "shape": "1"
          },
          "bdata": "mNDJvA==",
          "dtype": "f4"
         },
         "z": {
          "_inputArray": {
           "0": 0.031840547919273376,
           "bdata": "PGsCPQ==",
           "dtype": "f4",
           "shape": "1"
          },
          "bdata": "PGsCPQ==",
          "dtype": "f4"
         }
        },
        {
         "hovertemplate": "color=phoebe<br>0=%{x}<br>1=%{y}<br>2=%{z}<extra></extra>",
         "legendgroup": "phoebe",
         "marker": {
          "color": "#ab63fa",
          "symbol": "circle"
         },
         "mode": "markers",
         "name": "phoebe",
         "scene": "scene",
         "showlegend": true,
         "type": "scatter3d",
         "x": {
          "_inputArray": {
           "0": 0.28416305780410767,
           "bdata": "0n2RPg==",
           "dtype": "f4",
           "shape": "1"
          },
          "bdata": "0n2RPg==",
          "dtype": "f4"
         },
         "y": {
          "_inputArray": {
           "0": -0.5687593817710876,
           "bdata": "N5oRvw==",
           "dtype": "f4",
           "shape": "1"
          },
          "bdata": "N5oRvw==",
          "dtype": "f4"
         },
         "z": {
          "_inputArray": {
           "0": 0.1600063145160675,
           "bdata": "stgjPg==",
           "dtype": "f4",
           "shape": "1"
          },
          "bdata": "stgjPg==",
          "dtype": "f4"
         }
        },
        {
         "hovertemplate": "color=got<br>0=%{x}<br>1=%{y}<br>2=%{z}<extra></extra>",
         "legendgroup": "got",
         "marker": {
          "color": "#FFA15A",
          "symbol": "circle"
         },
         "mode": "markers",
         "name": "got",
         "scene": "scene",
         "showlegend": true,
         "type": "scatter3d",
         "x": {
          "_inputArray": {
           "0": 0.335401713848114,
           "bdata": "xrmrPg==",
           "dtype": "f4",
           "shape": "1"
          },
          "bdata": "xrmrPg==",
          "dtype": "f4"
         },
         "y": {
          "_inputArray": {
           "0": 0.010847747325897217,
           "bdata": "wLoxPA==",
           "dtype": "f4",
           "shape": "1"
          },
          "bdata": "wLoxPA==",
          "dtype": "f4"
         },
         "z": {
          "_inputArray": {
           "0": 0.10886101424694061,
           "bdata": "hvLePQ==",
           "dtype": "f4",
           "shape": "1"
          },
          "bdata": "hvLePQ==",
          "dtype": "f4"
         }
        },
        {
         "hovertemplate": "color=want<br>0=%{x}<br>1=%{y}<br>2=%{z}<extra></extra>",
         "legendgroup": "want",
         "marker": {
          "color": "#19d3f3",
          "symbol": "circle"
         },
         "mode": "markers",
         "name": "want",
         "scene": "scene",
         "showlegend": true,
         "type": "scatter3d",
         "x": {
          "_inputArray": {
           "0": 0.5056482553482056,
           "bdata": "KnIBPw==",
           "dtype": "f4",
           "shape": "1"
          },
          "bdata": "KnIBPw==",
          "dtype": "f4"
         },
         "y": {
          "_inputArray": {
           "0": -0.01957523077726364,
           "bdata": "PFygvA==",
           "dtype": "f4",
           "shape": "1"
          },
          "bdata": "PFygvA==",
          "dtype": "f4"
         },
         "z": {
          "_inputArray": {
           "0": -0.03225600719451904,
           "bdata": "4B4EvQ==",
           "dtype": "f4",
           "shape": "1"
          },
          "bdata": "4B4EvQ==",
          "dtype": "f4"
         }
        },
        {
         "hovertemplate": "color=good<br>0=%{x}<br>1=%{y}<br>2=%{z}<extra></extra>",
         "legendgroup": "good",
         "marker": {
          "color": "#FF6692",
          "symbol": "circle"
         },
         "mode": "markers",
         "name": "good",
         "scene": "scene",
         "showlegend": true,
         "type": "scatter3d",
         "x": {
          "_inputArray": {
           "0": 0.46143949031829834,
           "bdata": "zEHsPg==",
           "dtype": "f4",
           "shape": "1"
          },
          "bdata": "zEHsPg==",
          "dtype": "f4"
         },
         "y": {
          "_inputArray": {
           "0": -0.0360569953918457,
           "bdata": "gLATvQ==",
           "dtype": "f4",
           "shape": "1"
          },
          "bdata": "gLATvQ==",
          "dtype": "f4"
         },
         "z": {
          "_inputArray": {
           "0": -0.06902486085891724,
           "bdata": "6FyNvQ==",
           "dtype": "f4",
           "shape": "1"
          },
          "bdata": "6FyNvQ==",
          "dtype": "f4"
         }
        },
        {
         "hovertemplate": "color=come<br>0=%{x}<br>1=%{y}<br>2=%{z}<extra></extra>",
         "legendgroup": "come",
         "marker": {
          "color": "#B6E880",
          "symbol": "circle"
         },
         "mode": "markers",
         "name": "come",
         "scene": "scene",
         "showlegend": true,
         "type": "scatter3d",
         "x": {
          "_inputArray": {
           "0": 0.5112969875335693,
           "bdata": "XOQCPw==",
           "dtype": "f4",
           "shape": "1"
          },
          "bdata": "XOQCPw==",
          "dtype": "f4"
         },
         "y": {
          "_inputArray": {
           "0": -0.152078315615654,
           "bdata": "a7obvg==",
           "dtype": "f4",
           "shape": "1"
          },
          "bdata": "a7obvg==",
          "dtype": "f4"
         },
         "z": {
          "_inputArray": {
           "0": -0.038526296615600586,
           "bdata": "wM0dvQ==",
           "dtype": "f4",
           "shape": "1"
          },
          "bdata": "wM0dvQ==",
          "dtype": "f4"
         }
        },
        {
         "hovertemplate": "color=god<br>0=%{x}<br>1=%{y}<br>2=%{z}<extra></extra>",
         "legendgroup": "god",
         "marker": {
          "color": "#FF97FF",
          "symbol": "circle"
         },
         "mode": "markers",
         "name": "god",
         "scene": "scene",
         "showlegend": true,
         "type": "scatter3d",
         "x": {
          "_inputArray": {
           "0": 0.3821280300617218,
           "bdata": "SabDPg==",
           "dtype": "f4",
           "shape": "1"
          },
          "bdata": "SabDPg==",
          "dtype": "f4"
         },
         "y": {
          "_inputArray": {
           "0": -0.07344388961791992,
           "bdata": "wGmWvQ==",
           "dtype": "f4",
           "shape": "1"
          },
          "bdata": "wGmWvQ==",
          "dtype": "f4"
         },
         "z": {
          "_inputArray": {
           "0": -0.01651054620742798,
           "bdata": "IEGHvA==",
           "dtype": "f4",
           "shape": "1"
          },
          "bdata": "IEGHvA==",
          "dtype": "f4"
         }
        },
        {
         "hovertemplate": "color=would<br>0=%{x}<br>1=%{y}<br>2=%{z}<extra></extra>",
         "legendgroup": "would",
         "marker": {
          "color": "#FECB52",
          "symbol": "circle"
         },
         "mode": "markers",
         "name": "would",
         "scene": "scene",
         "showlegend": true,
         "type": "scatter3d",
         "x": {
          "_inputArray": {
           "0": 0.4528445899486542,
           "bdata": "P9vnPg==",
           "dtype": "f4",
           "shape": "1"
          },
          "bdata": "P9vnPg==",
          "dtype": "f4"
         },
         "y": {
          "_inputArray": {
           "0": 0.05183498561382294,
           "bdata": "7FBUPQ==",
           "dtype": "f4",
           "shape": "1"
          },
          "bdata": "7FBUPQ==",
          "dtype": "f4"
         },
         "z": {
          "_inputArray": {
           "0": 0.014114916324615479,
           "bdata": "QEJnPA==",
           "dtype": "f4",
           "shape": "1"
          },
          "bdata": "QEJnPA==",
          "dtype": "f4"
         }
        },
        {
         "hovertemplate": "color=guys<br>0=%{x}<br>1=%{y}<br>2=%{z}<extra></extra>",
         "legendgroup": "guys",
         "marker": {
          "color": "#636efa",
          "symbol": "circle"
         },
         "mode": "markers",
         "name": "guys",
         "scene": "scene",
         "showlegend": true,
         "type": "scatter3d",
         "x": {
          "_inputArray": {
           "0": 0.5220644474029541,
           "bdata": "BKYFPw==",
           "dtype": "f4",
           "shape": "1"
          },
          "bdata": "BKYFPw==",
          "dtype": "f4"
         },
         "y": {
          "_inputArray": {
           "0": 0.012867406010627747,
           "bdata": "0NFSPA==",
           "dtype": "f4",
           "shape": "1"
          },
          "bdata": "0NFSPA==",
          "dtype": "f4"
         },
         "z": {
          "_inputArray": {
           "0": 0.15028399229049683,
           "bdata": "DOQZPg==",
           "dtype": "f4",
           "shape": "1"
          },
          "bdata": "DOQZPg==",
          "dtype": "f4"
         }
        },
        {
         "hovertemplate": "color=going<br>0=%{x}<br>1=%{y}<br>2=%{z}<extra></extra>",
         "legendgroup": "going",
         "marker": {
          "color": "#EF553B",
          "symbol": "circle"
         },
         "mode": "markers",
         "name": "going",
         "scene": "scene",
         "showlegend": true,
         "type": "scatter3d",
         "x": {
          "_inputArray": {
           "0": 0.48275214433670044,
           "bdata": "Siv3Pg==",
           "dtype": "f4",
           "shape": "1"
          },
          "bdata": "Siv3Pg==",
          "dtype": "f4"
         },
         "y": {
          "_inputArray": {
           "0": 0.03292638063430786,
           "bdata": "0N0GPQ==",
           "dtype": "f4",
           "shape": "1"
          },
          "bdata": "0N0GPQ==",
          "dtype": "f4"
         },
         "z": {
          "_inputArray": {
           "0": 0.16871275007724762,
           "bdata": "CcMsPg==",
           "dtype": "f4",
           "shape": "1"
          },
          "bdata": "CcMsPg==",
          "dtype": "f4"
         }
        },
        {
         "hovertemplate": "color=sorry<br>0=%{x}<br>1=%{y}<br>2=%{z}<extra></extra>",
         "legendgroup": "sorry",
         "marker": {
          "color": "#00cc96",
          "symbol": "circle"
         },
         "mode": "markers",
         "name": "sorry",
         "scene": "scene",
         "showlegend": true,
         "type": "scatter3d",
         "x": {
          "_inputArray": {
           "0": 0.4573352336883545,
           "bdata": "2CfqPg==",
           "dtype": "f4",
           "shape": "1"
          },
          "bdata": "2CfqPg==",
          "dtype": "f4"
         },
         "y": {
          "_inputArray": {
           "0": 0.07571791112422943,
           "bdata": "/hGbPQ==",
           "dtype": "f4",
           "shape": "1"
          },
          "bdata": "/hGbPQ==",
          "dtype": "f4"
         },
         "z": {
          "_inputArray": {
           "0": 0.1052653044462204,
           "bdata": "VpXXPQ==",
           "dtype": "f4",
           "shape": "1"
          },
          "bdata": "VpXXPQ==",
          "dtype": "f4"
         }
        },
        {
         "hovertemplate": "color=ok<br>0=%{x}<br>1=%{y}<br>2=%{z}<extra></extra>",
         "legendgroup": "ok",
         "marker": {
          "color": "#ab63fa",
          "symbol": "circle"
         },
         "mode": "markers",
         "name": "ok",
         "scene": "scene",
         "showlegend": true,
         "type": "scatter3d",
         "x": {
          "_inputArray": {
           "0": 0.423478364944458,
           "bdata": "KNLYPg==",
           "dtype": "f4",
           "shape": "1"
          },
          "bdata": "KNLYPg==",
          "dtype": "f4"
         },
         "y": {
          "_inputArray": {
           "0": -0.12549254298210144,
           "bdata": "HoEAvg==",
           "dtype": "f4",
           "shape": "1"
          },
          "bdata": "HoEAvg==",
          "dtype": "f4"
         },
         "z": {
          "_inputArray": {
           "0": -0.07007995247840881,
           "bdata": "FIaPvQ==",
           "dtype": "f4",
           "shape": "1"
          },
          "bdata": "FIaPvQ==",
          "dtype": "f4"
         }
        },
        {
         "hovertemplate": "color=hi<br>0=%{x}<br>1=%{y}<br>2=%{z}<extra></extra>",
         "legendgroup": "hi",
         "marker": {
          "color": "#FFA15A",
          "symbol": "circle"
         },
         "mode": "markers",
         "name": "hi",
         "scene": "scene",
         "showlegend": true,
         "type": "scatter3d",
         "x": {
          "_inputArray": {
           "0": 0.3149586617946625,
           "bdata": "Q0KhPg==",
           "dtype": "f4",
           "shape": "1"
          },
          "bdata": "Q0KhPg==",
          "dtype": "f4"
         },
         "y": {
          "_inputArray": {
           "0": -0.2555994987487793,
           "bdata": "8N2Cvg==",
           "dtype": "f4",
           "shape": "1"
          },
          "bdata": "8N2Cvg==",
          "dtype": "f4"
         },
         "z": {
          "_inputArray": {
           "0": 0.04443737864494324,
           "bdata": "+AM2PQ==",
           "dtype": "f4",
           "shape": "1"
          },
          "bdata": "+AM2PQ==",
          "dtype": "f4"
         }
        },
        {
         "hovertemplate": "color=great<br>0=%{x}<br>1=%{y}<br>2=%{z}<extra></extra>",
         "legendgroup": "great",
         "marker": {
          "color": "#19d3f3",
          "symbol": "circle"
         },
         "mode": "markers",
         "name": "great",
         "scene": "scene",
         "showlegend": true,
         "type": "scatter3d",
         "x": {
          "_inputArray": {
           "0": 0.46270328760147095,
           "bdata": "cufsPg==",
           "dtype": "f4",
           "shape": "1"
          },
          "bdata": "cufsPg==",
          "dtype": "f4"
         },
         "y": {
          "_inputArray": {
           "0": 0.0044060200452804565,
           "bdata": "YGCQOw==",
           "dtype": "f4",
           "shape": "1"
          },
          "bdata": "YGCQOw==",
          "dtype": "f4"
         },
         "z": {
          "_inputArray": {
           "0": 0.049463286995887756,
           "bdata": "BJpKPQ==",
           "dtype": "f4",
           "shape": "1"
          },
          "bdata": "BJpKPQ==",
          "dtype": "f4"
         }
        },
        {
         "hovertemplate": "color=let<br>0=%{x}<br>1=%{y}<br>2=%{z}<extra></extra>",
         "legendgroup": "let",
         "marker": {
          "color": "#FF6692",
          "symbol": "circle"
         },
         "mode": "markers",
         "name": "let",
         "scene": "scene",
         "showlegend": true,
         "type": "scatter3d",
         "x": {
          "_inputArray": {
           "0": 0.45267748832702637,
           "bdata": "WMXnPg==",
           "dtype": "f4",
           "shape": "1"
          },
          "bdata": "WMXnPg==",
          "dtype": "f4"
         },
         "y": {
          "_inputArray": {
           "0": -0.06594687700271606,
           "bdata": "KA+HvQ==",
           "dtype": "f4",
           "shape": "1"
          },
          "bdata": "KA+HvQ==",
          "dtype": "f4"
         },
         "z": {
          "_inputArray": {
           "0": -0.009280234575271606,
           "bdata": "IAwYvA==",
           "dtype": "f4",
           "shape": "1"
          },
          "bdata": "IAwYvA==",
          "dtype": "f4"
         }
        },
        {
         "hovertemplate": "color=time<br>0=%{x}<br>1=%{y}<br>2=%{z}<extra></extra>",
         "legendgroup": "time",
         "marker": {
          "color": "#B6E880",
          "symbol": "circle"
         },
         "mode": "markers",
         "name": "time",
         "scene": "scene",
         "showlegend": true,
         "type": "scatter3d",
         "x": {
          "_inputArray": {
           "0": 0.393351674079895,
           "bdata": "ZGXJPg==",
           "dtype": "f4",
           "shape": "1"
          },
          "bdata": "ZGXJPg==",
          "dtype": "f4"
         },
         "y": {
          "_inputArray": {
           "0": 0.1168670803308487,
           "bdata": "AljvPQ==",
           "dtype": "f4",
           "shape": "1"
          },
          "bdata": "AljvPQ==",
          "dtype": "f4"
         },
         "z": {
          "_inputArray": {
           "0": 0.29729121923446655,
           "bdata": "jjaYPg==",
           "dtype": "f4",
           "shape": "1"
          },
          "bdata": "jjaYPg==",
          "dtype": "f4"
         }
        },
        {
         "hovertemplate": "color=tell<br>0=%{x}<br>1=%{y}<br>2=%{z}<extra></extra>",
         "legendgroup": "tell",
         "marker": {
          "color": "#FF97FF",
          "symbol": "circle"
         },
         "mode": "markers",
         "name": "tell",
         "scene": "scene",
         "showlegend": true,
         "type": "scatter3d",
         "x": {
          "_inputArray": {
           "0": 0.5004313588142395,
           "bdata": "RRwAPw==",
           "dtype": "f4",
           "shape": "1"
          },
          "bdata": "RRwAPw==",
          "dtype": "f4"
         },
         "y": {
          "_inputArray": {
           "0": 0.02989792823791504,
           "bdata": "gOz0PA==",
           "dtype": "f4",
           "shape": "1"
          },
          "bdata": "gOz0PA==",
          "dtype": "f4"
         },
         "z": {
          "_inputArray": {
           "0": 0.1535722315311432,
           "bdata": "CkIdPg==",
           "dtype": "f4",
           "shape": "1"
          },
          "bdata": "CkIdPg==",
          "dtype": "f4"
         }
        },
        {
         "hovertemplate": "color=back<br>0=%{x}<br>1=%{y}<br>2=%{z}<extra></extra>",
         "legendgroup": "back",
         "marker": {
          "color": "#FECB52",
          "symbol": "circle"
         },
         "mode": "markers",
         "name": "back",
         "scene": "scene",
         "showlegend": true,
         "type": "scatter3d",
         "x": {
          "_inputArray": {
           "0": 0.39902833104133606,
           "bdata": "cU3MPg==",
           "dtype": "f4",
           "shape": "1"
          },
          "bdata": "cU3MPg==",
          "dtype": "f4"
         },
         "y": {
          "_inputArray": {
           "0": -0.2560771703720093,
           "bdata": "jByDvg==",
           "dtype": "f4",
           "shape": "1"
          },
          "bdata": "jByDvg==",
          "dtype": "f4"
         },
         "z": {
          "_inputArray": {
           "0": 0.05558280646800995,
           "bdata": "zKpjPQ==",
           "dtype": "f4",
           "shape": "1"
          },
          "bdata": "zKpjPQ==",
          "dtype": "f4"
         }
        },
        {
         "hovertemplate": "color=say<br>0=%{x}<br>1=%{y}<br>2=%{z}<extra></extra>",
         "legendgroup": "say",
         "marker": {
          "color": "#636efa",
          "symbol": "circle"
         },
         "mode": "markers",
         "name": "say",
         "scene": "scene",
         "showlegend": true,
         "type": "scatter3d",
         "x": {
          "_inputArray": {
           "0": 0.45339149236679077,
           "bdata": "7iLoPg==",
           "dtype": "f4",
           "shape": "1"
          },
          "bdata": "7iLoPg==",
          "dtype": "f4"
         },
         "y": {
          "_inputArray": {
           "0": -0.014656826853752136,
           "bdata": "MCNwvA==",
           "dtype": "f4",
           "shape": "1"
          },
          "bdata": "MCNwvA==",
          "dtype": "f4"
         },
         "z": {
          "_inputArray": {
           "0": -0.04832965135574341,
           "bdata": "UPVFvQ==",
           "dtype": "f4",
           "shape": "1"
          },
          "bdata": "UPVFvQ==",
          "dtype": "f4"
         }
        },
        {
         "hovertemplate": "color=little<br>0=%{x}<br>1=%{y}<br>2=%{z}<extra></extra>",
         "legendgroup": "little",
         "marker": {
          "color": "#EF553B",
          "symbol": "circle"
         },
         "mode": "markers",
         "name": "little",
         "scene": "scene",
         "showlegend": true,
         "type": "scatter3d",
         "x": {
          "_inputArray": {
           "0": 0.2885771095752716,
           "bdata": "YcCTPg==",
           "dtype": "f4",
           "shape": "1"
          },
          "bdata": "YcCTPg==",
          "dtype": "f4"
         },
         "y": {
          "_inputArray": {
           "0": 0.13904081284999847,
           "bdata": "t2AOPg==",
           "dtype": "f4",
           "shape": "1"
          },
          "bdata": "t2AOPg==",
          "dtype": "f4"
         },
         "z": {
          "_inputArray": {
           "0": 0.10312090814113617,
           "bdata": "DjHTPQ==",
           "dtype": "f4",
           "shape": "1"
          },
          "bdata": "DjHTPQ==",
          "dtype": "f4"
         }
        },
        {
         "hovertemplate": "color=yes<br>0=%{x}<br>1=%{y}<br>2=%{z}<extra></extra>",
         "legendgroup": "yes",
         "marker": {
          "color": "#00cc96",
          "symbol": "circle"
         },
         "mode": "markers",
         "name": "yes",
         "scene": "scene",
         "showlegend": true,
         "type": "scatter3d",
         "x": {
          "_inputArray": {
           "0": 0.412178099155426,
           "bdata": "AgnTPg==",
           "dtype": "f4",
           "shape": "1"
          },
          "bdata": "AgnTPg==",
          "dtype": "f4"
         },
         "y": {
          "_inputArray": {
           "0": -0.046388790011405945,
           "bdata": "LAI+vQ==",
           "dtype": "f4",
           "shape": "1"
          },
          "bdata": "LAI+vQ==",
          "dtype": "f4"
         },
         "z": {
          "_inputArray": {
           "0": -0.07699093222618103,
           "bdata": "bK2dvQ==",
           "dtype": "f4",
           "shape": "1"
          },
          "bdata": "bK2dvQ==",
          "dtype": "f4"
         }
        },
        {
         "hovertemplate": "color=could<br>0=%{x}<br>1=%{y}<br>2=%{z}<extra></extra>",
         "legendgroup": "could",
         "marker": {
          "color": "#ab63fa",
          "symbol": "circle"
         },
         "mode": "markers",
         "name": "could",
         "scene": "scene",
         "showlegend": true,
         "type": "scatter3d",
         "x": {
          "_inputArray": {
           "0": 0.4091508090496063,
           "bdata": "N3zRPg==",
           "dtype": "f4",
           "shape": "1"
          },
          "bdata": "N3zRPg==",
          "dtype": "f4"
         },
         "y": {
          "_inputArray": {
           "0": 0.015898123383522034,
           "bdata": "yDyCPA==",
           "dtype": "f4",
           "shape": "1"
          },
          "bdata": "yDyCPA==",
          "dtype": "f4"
         },
         "z": {
          "_inputArray": {
           "0": 0.04602803289890289,
           "bdata": "5Ic8PQ==",
           "dtype": "f4",
           "shape": "1"
          },
          "bdata": "5Ic8PQ==",
          "dtype": "f4"
         }
        },
        {
         "hovertemplate": "color=guy<br>0=%{x}<br>1=%{y}<br>2=%{z}<extra></extra>",
         "legendgroup": "guy",
         "marker": {
          "color": "#FFA15A",
          "symbol": "circle"
         },
         "mode": "markers",
         "name": "guy",
         "scene": "scene",
         "showlegend": true,
         "type": "scatter3d",
         "x": {
          "_inputArray": {
           "0": 0.2979506552219391,
           "bdata": "/YyYPg==",
           "dtype": "f4",
           "shape": "1"
          },
          "bdata": "/YyYPg==",
          "dtype": "f4"
         },
         "y": {
          "_inputArray": {
           "0": 0.09417380392551422,
           "bdata": "Mt7APQ==",
           "dtype": "f4",
           "shape": "1"
          },
          "bdata": "Mt7APQ==",
          "dtype": "f4"
         },
         "z": {
          "_inputArray": {
           "0": 0.27102047204971313,
           "bdata": "MsOKPg==",
           "dtype": "f4",
           "shape": "1"
          },
          "bdata": "MsOKPg==",
          "dtype": "f4"
         }
        },
        {
         "hovertemplate": "color=wait<br>0=%{x}<br>1=%{y}<br>2=%{z}<extra></extra>",
         "legendgroup": "wait",
         "marker": {
          "color": "#19d3f3",
          "symbol": "circle"
         },
         "mode": "markers",
         "name": "wait",
         "scene": "scene",
         "showlegend": true,
         "type": "scatter3d",
         "x": {
          "_inputArray": {
           "0": 0.38255810737609863,
           "bdata": "qN7DPg==",
           "dtype": "f4",
           "shape": "1"
          },
          "bdata": "qN7DPg==",
          "dtype": "f4"
         },
         "y": {
          "_inputArray": {
           "0": -0.044655054807662964,
           "bdata": "OOg2vQ==",
           "dtype": "f4",
           "shape": "1"
          },
          "bdata": "OOg2vQ==",
          "dtype": "f4"
         },
         "z": {
          "_inputArray": {
           "0": 0.08100160956382751,
           "bdata": "LOSlPQ==",
           "dtype": "f4",
           "shape": "1"
          },
          "bdata": "LOSlPQ==",
          "dtype": "f4"
         }
        },
        {
         "hovertemplate": "color=love<br>0=%{x}<br>1=%{y}<br>2=%{z}<extra></extra>",
         "legendgroup": "love",
         "marker": {
          "color": "#FF6692",
          "symbol": "circle"
         },
         "mode": "markers",
         "name": "love",
         "scene": "scene",
         "showlegend": true,
         "type": "scatter3d",
         "x": {
          "_inputArray": {
           "0": 0.4162662625312805,
           "bdata": "2iDVPg==",
           "dtype": "f4",
           "shape": "1"
          },
          "bdata": "2iDVPg==",
          "dtype": "f4"
         },
         "y": {
          "_inputArray": {
           "0": -0.0124635249376297,
           "bdata": "0DNMvA==",
           "dtype": "f4",
           "shape": "1"
          },
          "bdata": "0DNMvA==",
          "dtype": "f4"
         },
         "z": {
          "_inputArray": {
           "0": -0.006638824939727783,
           "bdata": "gIrZuw==",
           "dtype": "f4",
           "shape": "1"
          },
          "bdata": "gIrZuw==",
          "dtype": "f4"
         }
        },
        {
         "hovertemplate": "color=thing<br>0=%{x}<br>1=%{y}<br>2=%{z}<extra></extra>",
         "legendgroup": "thing",
         "marker": {
          "color": "#B6E880",
          "symbol": "circle"
         },
         "mode": "markers",
         "name": "thing",
         "scene": "scene",
         "showlegend": true,
         "type": "scatter3d",
         "x": {
          "_inputArray": {
           "0": 0.3776414394378662,
           "bdata": "OFrBPg==",
           "dtype": "f4",
           "shape": "1"
          },
          "bdata": "OFrBPg==",
          "dtype": "f4"
         },
         "y": {
          "_inputArray": {
           "0": 0.16629453003406525,
           "bdata": "HUkqPg==",
           "dtype": "f4",
           "shape": "1"
          },
          "bdata": "HUkqPg==",
          "dtype": "f4"
         },
         "z": {
          "_inputArray": {
           "0": 0.19115287065505981,
           "bdata": "lL1DPg==",
           "dtype": "f4",
           "shape": "1"
          },
          "bdata": "lL1DPg==",
          "dtype": "f4"
         }
        },
        {
         "hovertemplate": "color=something<br>0=%{x}<br>1=%{y}<br>2=%{z}<extra></extra>",
         "legendgroup": "something",
         "marker": {
          "color": "#FF97FF",
          "symbol": "circle"
         },
         "mode": "markers",
         "name": "something",
         "scene": "scene",
         "showlegend": true,
         "type": "scatter3d",
         "x": {
          "_inputArray": {
           "0": 0.4482993483543396,
           "bdata": "foflPg==",
           "dtype": "f4",
           "shape": "1"
          },
          "bdata": "foflPg==",
          "dtype": "f4"
         },
         "y": {
          "_inputArray": {
           "0": -0.03162546455860138,
           "bdata": "tIkBvQ==",
           "dtype": "f4",
           "shape": "1"
          },
          "bdata": "tIkBvQ==",
          "dtype": "f4"
         },
         "z": {
          "_inputArray": {
           "0": 0.08410394191741943,
           "bdata": "sD6sPQ==",
           "dtype": "f4",
           "shape": "1"
          },
          "bdata": "sD6sPQ==",
          "dtype": "f4"
         }
        },
        {
         "hovertemplate": "color=maybe<br>0=%{x}<br>1=%{y}<br>2=%{z}<extra></extra>",
         "legendgroup": "maybe",
         "marker": {
          "color": "#FECB52",
          "symbol": "circle"
         },
         "mode": "markers",
         "name": "maybe",
         "scene": "scene",
         "showlegend": true,
         "type": "scatter3d",
         "x": {
          "_inputArray": {
           "0": 0.4597851634025574,
           "bdata": "9mjrPg==",
           "dtype": "f4",
           "shape": "1"
          },
          "bdata": "9mjrPg==",
          "dtype": "f4"
         },
         "y": {
          "_inputArray": {
           "0": -0.05925747752189636,
           "bdata": "+LdyvQ==",
           "dtype": "f4",
           "shape": "1"
          },
          "bdata": "+LdyvQ==",
          "dtype": "f4"
         },
         "z": {
          "_inputArray": {
           "0": -0.04664427042007446,
           "bdata": "EA4/vQ==",
           "dtype": "f4",
           "shape": "1"
          },
          "bdata": "EA4/vQ==",
          "dtype": "f4"
         }
        },
        {
         "hovertemplate": "color=take<br>0=%{x}<br>1=%{y}<br>2=%{z}<extra></extra>",
         "legendgroup": "take",
         "marker": {
          "color": "#636efa",
          "symbol": "circle"
         },
         "mode": "markers",
         "name": "take",
         "scene": "scene",
         "showlegend": true,
         "type": "scatter3d",
         "x": {
          "_inputArray": {
           "0": 0.36277779936790466,
           "bdata": "A765Pg==",
           "dtype": "f4",
           "shape": "1"
          },
          "bdata": "A765Pg==",
          "dtype": "f4"
         },
         "y": {
          "_inputArray": {
           "0": -0.15871649980545044,
           "bdata": "lIYivg==",
           "dtype": "f4",
           "shape": "1"
          },
          "bdata": "lIYivg==",
          "dtype": "f4"
         },
         "z": {
          "_inputArray": {
           "0": -0.0978478491306305,
           "bdata": "dGTIvQ==",
           "dtype": "f4",
           "shape": "1"
          },
          "bdata": "dGTIvQ==",
          "dtype": "f4"
         }
        },
        {
         "hovertemplate": "color=umm<br>0=%{x}<br>1=%{y}<br>2=%{z}<extra></extra>",
         "legendgroup": "umm",
         "marker": {
          "color": "#EF553B",
          "symbol": "circle"
         },
         "mode": "markers",
         "name": "umm",
         "scene": "scene",
         "showlegend": true,
         "type": "scatter3d",
         "x": {
          "_inputArray": {
           "0": 0.4233158230781555,
           "bdata": "2rzYPg==",
           "dtype": "f4",
           "shape": "1"
          },
          "bdata": "2rzYPg==",
          "dtype": "f4"
         },
         "y": {
          "_inputArray": {
           "0": 0.06780925393104553,
           "bdata": "lN+KPQ==",
           "dtype": "f4",
           "shape": "1"
          },
          "bdata": "lN+KPQ==",
          "dtype": "f4"
         },
         "z": {
          "_inputArray": {
           "0": 0.09691916406154633,
           "bdata": "jn3GPQ==",
           "dtype": "f4",
           "shape": "1"
          },
          "bdata": "jn3GPQ==",
          "dtype": "f4"
         }
        },
        {
         "hovertemplate": "color=make<br>0=%{x}<br>1=%{y}<br>2=%{z}<extra></extra>",
         "legendgroup": "make",
         "marker": {
          "color": "#00cc96",
          "symbol": "circle"
         },
         "mode": "markers",
         "name": "make",
         "scene": "scene",
         "showlegend": true,
         "type": "scatter3d",
         "x": {
          "_inputArray": {
           "0": 0.4338018596172333,
           "bdata": "RxvePg==",
           "dtype": "f4",
           "shape": "1"
          },
          "bdata": "RxvePg==",
          "dtype": "f4"
         },
         "y": {
          "_inputArray": {
           "0": 0.036302536725997925,
           "bdata": "+LEUPQ==",
           "dtype": "f4",
           "shape": "1"
          },
          "bdata": "+LEUPQ==",
          "dtype": "f4"
         },
         "z": {
          "_inputArray": {
           "0": 0.017162740230560303,
           "bdata": "4JiMPA==",
           "dtype": "f4",
           "shape": "1"
          },
          "bdata": "4JiMPA==",
          "dtype": "f4"
         }
        },
        {
         "hovertemplate": "color=us<br>0=%{x}<br>1=%{y}<br>2=%{z}<extra></extra>",
         "legendgroup": "us",
         "marker": {
          "color": "#ab63fa",
          "symbol": "circle"
         },
         "mode": "markers",
         "name": "us",
         "scene": "scene",
         "showlegend": true,
         "type": "scatter3d",
         "x": {
          "_inputArray": {
           "0": 0.4683518409729004,
           "bdata": "0MvvPg==",
           "dtype": "f4",
           "shape": "1"
          },
          "bdata": "0MvvPg==",
          "dtype": "f4"
         },
         "y": {
          "_inputArray": {
           "0": -0.04200429469347,
           "bdata": "sgwsvQ==",
           "dtype": "f4",
           "shape": "1"
          },
          "bdata": "sgwsvQ==",
          "dtype": "f4"
         },
         "z": {
          "_inputArray": {
           "0": 0.11310473084449768,
           "bdata": "dKPnPQ==",
           "dtype": "f4",
           "shape": "1"
          },
          "bdata": "dKPnPQ==",
          "dtype": "f4"
         }
        },
        {
         "hovertemplate": "color=huh<br>0=%{x}<br>1=%{y}<br>2=%{z}<extra></extra>",
         "legendgroup": "huh",
         "marker": {
          "color": "#FFA15A",
          "symbol": "circle"
         },
         "mode": "markers",
         "name": "huh",
         "scene": "scene",
         "showlegend": true,
         "type": "scatter3d",
         "x": {
          "_inputArray": {
           "0": 0.30632391571998596,
           "bdata": "fdacPg==",
           "dtype": "f4",
           "shape": "1"
          },
          "bdata": "fdacPg==",
          "dtype": "f4"
         },
         "y": {
          "_inputArray": {
           "0": 0.07870727777481079,
           "bdata": "SDGhPQ==",
           "dtype": "f4",
           "shape": "1"
          },
          "bdata": "SDGhPQ==",
          "dtype": "f4"
         },
         "z": {
          "_inputArray": {
           "0": 0.029099270701408386,
           "bdata": "mGHuPA==",
           "dtype": "f4",
           "shape": "1"
          },
          "bdata": "mGHuPA==",
          "dtype": "f4"
         }
        },
        {
         "hovertemplate": "color=said<br>0=%{x}<br>1=%{y}<br>2=%{z}<extra></extra>",
         "legendgroup": "said",
         "marker": {
          "color": "#19d3f3",
          "symbol": "circle"
         },
         "mode": "markers",
         "name": "said",
         "scene": "scene",
         "showlegend": true,
         "type": "scatter3d",
         "x": {
          "_inputArray": {
           "0": 0.4455392360687256,
           "bdata": "uB3kPg==",
           "dtype": "f4",
           "shape": "1"
          },
          "bdata": "uB3kPg==",
          "dtype": "f4"
         },
         "y": {
          "_inputArray": {
           "0": 0.04620175063610077,
           "bdata": "DD49PQ==",
           "dtype": "f4",
           "shape": "1"
          },
          "bdata": "DD49PQ==",
          "dtype": "f4"
         },
         "z": {
          "_inputArray": {
           "0": 0.045194730162620544,
           "bdata": "HB45PQ==",
           "dtype": "f4",
           "shape": "1"
          },
          "bdata": "HB45PQ==",
          "dtype": "f4"
         }
        },
        {
         "hovertemplate": "color=way<br>0=%{x}<br>1=%{y}<br>2=%{z}<extra></extra>",
         "legendgroup": "way",
         "marker": {
          "color": "#FF6692",
          "symbol": "circle"
         },
         "mode": "markers",
         "name": "way",
         "scene": "scene",
         "showlegend": true,
         "type": "scatter3d",
         "x": {
          "_inputArray": {
           "0": 0.47115784883499146,
           "bdata": "mjvxPg==",
           "dtype": "f4",
           "shape": "1"
          },
          "bdata": "mjvxPg==",
          "dtype": "f4"
         },
         "y": {
          "_inputArray": {
           "0": 0.013923406600952148,
           "bdata": "AB9kPA==",
           "dtype": "f4",
           "shape": "1"
          },
          "bdata": "AB9kPA==",
          "dtype": "f4"
         },
         "z": {
          "_inputArray": {
           "0": 0.021786153316497803,
           "bdata": "4HiyPA==",
           "dtype": "f4",
           "shape": "1"
          },
          "bdata": "4HiyPA==",
          "dtype": "f4"
         }
        },
        {
         "hovertemplate": "color=still<br>0=%{x}<br>1=%{y}<br>2=%{z}<extra></extra>",
         "legendgroup": "still",
         "marker": {
          "color": "#B6E880",
          "symbol": "circle"
         },
         "mode": "markers",
         "name": "still",
         "scene": "scene",
         "showlegend": true,
         "type": "scatter3d",
         "x": {
          "_inputArray": {
           "0": 0.3887436091899872,
           "bdata": "ZwnHPg==",
           "dtype": "f4",
           "shape": "1"
          },
          "bdata": "ZwnHPg==",
          "dtype": "f4"
         },
         "y": {
          "_inputArray": {
           "0": -0.27189478278160095,
           "bdata": "yzWLvg==",
           "dtype": "f4",
           "shape": "1"
          },
          "bdata": "yzWLvg==",
          "dtype": "f4"
         },
         "z": {
          "_inputArray": {
           "0": 0.14102037250995636,
           "bdata": "pWcQPg==",
           "dtype": "f4",
           "shape": "1"
          },
          "bdata": "pWcQPg==",
          "dtype": "f4"
         }
        },
        {
         "hovertemplate": "color=never<br>0=%{x}<br>1=%{y}<br>2=%{z}<extra></extra>",
         "legendgroup": "never",
         "marker": {
          "color": "#FF97FF",
          "symbol": "circle"
         },
         "mode": "markers",
         "name": "never",
         "scene": "scene",
         "showlegend": true,
         "type": "scatter3d",
         "x": {
          "_inputArray": {
           "0": 0.4304457902908325,
           "bdata": "ZGPcPg==",
           "dtype": "f4",
           "shape": "1"
          },
          "bdata": "ZGPcPg==",
          "dtype": "f4"
         },
         "y": {
          "_inputArray": {
           "0": 0.07161667943000793,
           "bdata": "xKuSPQ==",
           "dtype": "f4",
           "shape": "1"
          },
          "bdata": "xKuSPQ==",
          "dtype": "f4"
         },
         "z": {
          "_inputArray": {
           "0": 0.04320475459098816,
           "bdata": "ePcwPQ==",
           "dtype": "f4",
           "shape": "1"
          },
          "bdata": "ePcwPQ==",
          "dtype": "f4"
         }
        },
        {
         "hovertemplate": "color=much<br>0=%{x}<br>1=%{y}<br>2=%{z}<extra></extra>",
         "legendgroup": "much",
         "marker": {
          "color": "#FECB52",
          "symbol": "circle"
         },
         "mode": "markers",
         "name": "much",
         "scene": "scene",
         "showlegend": true,
         "type": "scatter3d",
         "x": {
          "_inputArray": {
           "0": 0.4558032155036926,
           "bdata": "Cl/pPg==",
           "dtype": "f4",
           "shape": "1"
          },
          "bdata": "Cl/pPg==",
          "dtype": "f4"
         },
         "y": {
          "_inputArray": {
           "0": -0.032708071172237396,
           "bdata": "5vgFvQ==",
           "dtype": "f4",
           "shape": "1"
          },
          "bdata": "5vgFvQ==",
          "dtype": "f4"
         },
         "z": {
          "_inputArray": {
           "0": -0.008287608623504639,
           "bdata": "wMgHvA==",
           "dtype": "f4",
           "shape": "1"
          },
          "bdata": "wMgHvA==",
          "dtype": "f4"
         }
        },
        {
         "hovertemplate": "color=two<br>0=%{x}<br>1=%{y}<br>2=%{z}<extra></extra>",
         "legendgroup": "two",
         "marker": {
          "color": "#636efa",
          "symbol": "circle"
         },
         "mode": "markers",
         "name": "two",
         "scene": "scene",
         "showlegend": true,
         "type": "scatter3d",
         "x": {
          "_inputArray": {
           "0": 0.28340986371040344,
           "bdata": "GRuRPg==",
           "dtype": "f4",
           "shape": "1"
          },
          "bdata": "GRuRPg==",
          "dtype": "f4"
         },
         "y": {
          "_inputArray": {
           "0": 0.03978647291660309,
           "bdata": "JPciPQ==",
           "dtype": "f4",
           "shape": "1"
          },
          "bdata": "JPciPQ==",
          "dtype": "f4"
         },
         "z": {
          "_inputArray": {
           "0": 0.2600407302379608,
           "bdata": "DySFPg==",
           "dtype": "f4",
           "shape": "1"
          },
          "bdata": "DySFPg==",
          "dtype": "f4"
         }
        },
        {
         "hovertemplate": "color=apartment<br>0=%{x}<br>1=%{y}<br>2=%{z}<extra></extra>",
         "legendgroup": "apartment",
         "marker": {
          "color": "#EF553B",
          "symbol": "circle"
         },
         "mode": "markers",
         "name": "apartment",
         "scene": "scene",
         "showlegend": true,
         "type": "scatter3d",
         "x": {
          "_inputArray": {
           "0": 0.21906204521656036,
           "bdata": "zVFgPg==",
           "dtype": "f4",
           "shape": "1"
          },
          "bdata": "zVFgPg==",
          "dtype": "f4"
         },
         "y": {
          "_inputArray": {
           "0": -0.526897132396698,
           "bdata": "u+IGvw==",
           "dtype": "f4",
           "shape": "1"
          },
          "bdata": "u+IGvw==",
          "dtype": "f4"
         },
         "z": {
          "_inputArray": {
           "0": 0.1372169703245163,
           "bdata": "m4IMPg==",
           "dtype": "f4",
           "shape": "1"
          },
          "bdata": "m4IMPg==",
          "dtype": "f4"
         }
        },
        {
         "hovertemplate": "color=sure<br>0=%{x}<br>1=%{y}<br>2=%{z}<extra></extra>",
         "legendgroup": "sure",
         "marker": {
          "color": "#00cc96",
          "symbol": "circle"
         },
         "mode": "markers",
         "name": "sure",
         "scene": "scene",
         "showlegend": true,
         "type": "scatter3d",
         "x": {
          "_inputArray": {
           "0": 0.40971946716308594,
           "bdata": "wMbRPg==",
           "dtype": "f4",
           "shape": "1"
          },
          "bdata": "wMbRPg==",
          "dtype": "f4"
         },
         "y": {
          "_inputArray": {
           "0": -0.0018904507160186768,
           "bdata": "AMn3ug==",
           "dtype": "f4",
           "shape": "1"
          },
          "bdata": "AMn3ug==",
          "dtype": "f4"
         },
         "z": {
          "_inputArray": {
           "0": 0.03402213752269745,
           "bdata": "zFoLPQ==",
           "dtype": "f4",
           "shape": "1"
          },
          "bdata": "zFoLPQ==",
          "dtype": "f4"
         }
        },
        {
         "hovertemplate": "color=wanna<br>0=%{x}<br>1=%{y}<br>2=%{z}<extra></extra>",
         "legendgroup": "wanna",
         "marker": {
          "color": "#ab63fa",
          "symbol": "circle"
         },
         "mode": "markers",
         "name": "wanna",
         "scene": "scene",
         "showlegend": true,
         "type": "scatter3d",
         "x": {
          "_inputArray": {
           "0": 0.4462026357650757,
           "bdata": "rHTkPg==",
           "dtype": "f4",
           "shape": "1"
          },
          "bdata": "rHTkPg==",
          "dtype": "f4"
         },
         "y": {
          "_inputArray": {
           "0": -0.05767068266868591,
           "bdata": "GDhsvQ==",
           "dtype": "f4",
           "shape": "1"
          },
          "bdata": "GDhsvQ==",
          "dtype": "f4"
         },
         "z": {
          "_inputArray": {
           "0": 0.09558884799480438,
           "bdata": "FsTDPQ==",
           "dtype": "f4",
           "shape": "1"
          },
          "bdata": "FsTDPQ==",
          "dtype": "f4"
         }
        },
        {
         "hovertemplate": "color=thank<br>0=%{x}<br>1=%{y}<br>2=%{z}<extra></extra>",
         "legendgroup": "thank",
         "marker": {
          "color": "#FFA15A",
          "symbol": "circle"
         },
         "mode": "markers",
         "name": "thank",
         "scene": "scene",
         "showlegend": true,
         "type": "scatter3d",
         "x": {
          "_inputArray": {
           "0": 0.41412922739982605,
           "bdata": "vwjUPg==",
           "dtype": "f4",
           "shape": "1"
          },
          "bdata": "vwjUPg==",
          "dtype": "f4"
         },
         "y": {
          "_inputArray": {
           "0": -0.12527680397033691,
           "bdata": "kEgAvg==",
           "dtype": "f4",
           "shape": "1"
          },
          "bdata": "kEgAvg==",
          "dtype": "f4"
         },
         "z": {
          "_inputArray": {
           "0": -0.03861057758331299,
           "bdata": "ICYevQ==",
           "dtype": "f4",
           "shape": "1"
          },
          "bdata": "ICYevQ==",
          "dtype": "f4"
         }
        },
        {
         "hovertemplate": "color=wow<br>0=%{x}<br>1=%{y}<br>2=%{z}<extra></extra>",
         "legendgroup": "wow",
         "marker": {
          "color": "#19d3f3",
          "symbol": "circle"
         },
         "mode": "markers",
         "name": "wow",
         "scene": "scene",
         "showlegend": true,
         "type": "scatter3d",
         "x": {
          "_inputArray": {
           "0": 0.36354130506515503,
           "bdata": "FiK6Pg==",
           "dtype": "f4",
           "shape": "1"
          },
          "bdata": "FiK6Pg==",
          "dtype": "f4"
         },
         "y": {
          "_inputArray": {
           "0": 0.013330653309822083,
           "bdata": "0GhaPA==",
           "dtype": "f4",
           "shape": "1"
          },
          "bdata": "0GhaPA==",
          "dtype": "f4"
         },
         "z": {
          "_inputArray": {
           "0": -0.08117038011550903,
           "bdata": "qDymvQ==",
           "dtype": "f4",
           "shape": "1"
          },
          "bdata": "qDymvQ==",
          "dtype": "f4"
         }
        },
        {
         "hovertemplate": "color=man<br>0=%{x}<br>1=%{y}<br>2=%{z}<extra></extra>",
         "legendgroup": "man",
         "marker": {
          "color": "#FF6692",
          "symbol": "circle"
         },
         "mode": "markers",
         "name": "man",
         "scene": "scene",
         "showlegend": true,
         "type": "scatter3d",
         "x": {
          "_inputArray": {
           "0": 0.22300630807876587,
           "bdata": "xFtkPg==",
           "dtype": "f4",
           "shape": "1"
          },
          "bdata": "xFtkPg==",
          "dtype": "f4"
         },
         "y": {
          "_inputArray": {
           "0": 0.026657402515411377,
           "bdata": "oGDaPA==",
           "dtype": "f4",
           "shape": "1"
          },
          "bdata": "oGDaPA==",
          "dtype": "f4"
         },
         "z": {
          "_inputArray": {
           "0": 0.09631381928920746,
           "bdata": "LkDFPQ==",
           "dtype": "f4",
           "shape": "1"
          },
          "bdata": "LkDFPQ==",
          "dtype": "f4"
         }
        },
        {
         "hovertemplate": "color=need<br>0=%{x}<br>1=%{y}<br>2=%{z}<extra></extra>",
         "legendgroup": "need",
         "marker": {
          "color": "#B6E880",
          "symbol": "circle"
         },
         "mode": "markers",
         "name": "need",
         "scene": "scene",
         "showlegend": true,
         "type": "scatter3d",
         "x": {
          "_inputArray": {
           "0": 0.42870867252349854,
           "bdata": "tH/bPg==",
           "dtype": "f4",
           "shape": "1"
          },
          "bdata": "tH/bPg==",
          "dtype": "f4"
         },
         "y": {
          "_inputArray": {
           "0": -0.09371598064899445,
           "bdata": "Ku6/vQ==",
           "dtype": "f4",
           "shape": "1"
          },
          "bdata": "Ku6/vQ==",
          "dtype": "f4"
         },
         "z": {
          "_inputArray": {
           "0": -0.0815141499042511,
           "bdata": "5PCmvQ==",
           "dtype": "f4",
           "shape": "1"
          },
          "bdata": "5PCmvQ==",
          "dtype": "f4"
         }
        },
        {
         "hovertemplate": "color=people<br>0=%{x}<br>1=%{y}<br>2=%{z}<extra></extra>",
         "legendgroup": "people",
         "marker": {
          "color": "#FF97FF",
          "symbol": "circle"
         },
         "mode": "markers",
         "name": "people",
         "scene": "scene",
         "showlegend": true,
         "type": "scatter3d",
         "x": {
          "_inputArray": {
           "0": 0.34247010946273804,
           "bdata": "PlivPg==",
           "dtype": "f4",
           "shape": "1"
          },
          "bdata": "PlivPg==",
          "dtype": "f4"
         },
         "y": {
          "_inputArray": {
           "0": 0.02989506721496582,
           "bdata": "gOb0PA==",
           "dtype": "f4",
           "shape": "1"
          },
          "bdata": "gOb0PA==",
          "dtype": "f4"
         },
         "z": {
          "_inputArray": {
           "0": 0.11782464385032654,
           "bdata": "DE7xPQ==",
           "dtype": "f4",
           "shape": "1"
          },
          "bdata": "DE7xPQ==",
          "dtype": "f4"
         }
        },
        {
         "hovertemplate": "color=please<br>0=%{x}<br>1=%{y}<br>2=%{z}<extra></extra>",
         "legendgroup": "please",
         "marker": {
          "color": "#FECB52",
          "symbol": "circle"
         },
         "mode": "markers",
         "name": "please",
         "scene": "scene",
         "showlegend": true,
         "type": "scatter3d",
         "x": {
          "_inputArray": {
           "0": 0.4657612442970276,
           "bdata": "QnjuPg==",
           "dtype": "f4",
           "shape": "1"
          },
          "bdata": "QnjuPg==",
          "dtype": "f4"
         },
         "y": {
          "_inputArray": {
           "0": -0.2335476577281952,
           "bdata": "Hidvvg==",
           "dtype": "f4",
           "shape": "1"
          },
          "bdata": "Hidvvg==",
          "dtype": "f4"
         },
         "z": {
          "_inputArray": {
           "0": -0.1375538408756256,
           "bdata": "6toMvg==",
           "dtype": "f4",
           "shape": "1"
          },
          "bdata": "6toMvg==",
          "dtype": "f4"
         }
        },
        {
         "hovertemplate": "color=big<br>0=%{x}<br>1=%{y}<br>2=%{z}<extra></extra>",
         "legendgroup": "big",
         "marker": {
          "color": "#636efa",
          "symbol": "circle"
         },
         "mode": "markers",
         "name": "big",
         "scene": "scene",
         "showlegend": true,
         "type": "scatter3d",
         "x": {
          "_inputArray": {
           "0": 0.32116448879241943,
           "bdata": "rG+kPg==",
           "dtype": "f4",
           "shape": "1"
          },
          "bdata": "rG+kPg==",
          "dtype": "f4"
         },
         "y": {
          "_inputArray": {
           "0": -0.08365665376186371,
           "bdata": "LlSrvQ==",
           "dtype": "f4",
           "shape": "1"
          },
          "bdata": "LlSrvQ==",
          "dtype": "f4"
         },
         "z": {
          "_inputArray": {
           "0": -0.006796747446060181,
           "bdata": "QLfeuw==",
           "dtype": "f4",
           "shape": "1"
          },
          "bdata": "QLfeuw==",
          "dtype": "f4"
         }
        },
        {
         "hovertemplate": "color=thought<br>0=%{x}<br>1=%{y}<br>2=%{z}<extra></extra>",
         "legendgroup": "thought",
         "marker": {
          "color": "#EF553B",
          "symbol": "circle"
         },
         "mode": "markers",
         "name": "thought",
         "scene": "scene",
         "showlegend": true,
         "type": "scatter3d",
         "x": {
          "_inputArray": {
           "0": 0.4785131812095642,
           "bdata": "rv/0Pg==",
           "dtype": "f4",
           "shape": "1"
          },
          "bdata": "rv/0Pg==",
          "dtype": "f4"
         },
         "y": {
          "_inputArray": {
           "0": 0.13332311809062958,
           "bdata": "24UIPg==",
           "dtype": "f4",
           "shape": "1"
          },
          "bdata": "24UIPg==",
          "dtype": "f4"
         },
         "z": {
          "_inputArray": {
           "0": 0.09116148948669434,
           "bdata": "4LK6PQ==",
           "dtype": "f4",
           "shape": "1"
          },
          "bdata": "4LK6PQ==",
          "dtype": "f4"
         }
        },
        {
         "hovertemplate": "color=believe<br>0=%{x}<br>1=%{y}<br>2=%{z}<extra></extra>",
         "legendgroup": "believe",
         "marker": {
          "color": "#00cc96",
          "symbol": "circle"
         },
         "mode": "markers",
         "name": "believe",
         "scene": "scene",
         "showlegend": true,
         "type": "scatter3d",
         "x": {
          "_inputArray": {
           "0": 0.460843026638031,
           "bdata": "nvPrPg==",
           "dtype": "f4",
           "shape": "1"
          },
          "bdata": "nvPrPg==",
          "dtype": "f4"
         },
         "y": {
          "_inputArray": {
           "0": 0.037416741251945496,
           "bdata": "TEIZPQ==",
           "dtype": "f4",
           "shape": "1"
          },
          "bdata": "TEIZPQ==",
          "dtype": "f4"
         },
         "z": {
          "_inputArray": {
           "0": 0.10287569463253021,
           "bdata": "frDSPQ==",
           "dtype": "f4",
           "shape": "1"
          },
          "bdata": "frDSPQ==",
          "dtype": "f4"
         }
        },
        {
         "hovertemplate": "color=first<br>0=%{x}<br>1=%{y}<br>2=%{z}<extra></extra>",
         "legendgroup": "first",
         "marker": {
          "color": "#ab63fa",
          "symbol": "circle"
         },
         "mode": "markers",
         "name": "first",
         "scene": "scene",
         "showlegend": true,
         "type": "scatter3d",
         "x": {
          "_inputArray": {
           "0": 0.4415940046310425,
           "bdata": "nBjiPg==",
           "dtype": "f4",
           "shape": "1"
          },
          "bdata": "nBjiPg==",
          "dtype": "f4"
         },
         "y": {
          "_inputArray": {
           "0": -0.08104775846004486,
           "bdata": "XvylvQ==",
           "dtype": "f4",
           "shape": "1"
          },
          "bdata": "XvylvQ==",
          "dtype": "f4"
         },
         "z": {
          "_inputArray": {
           "0": -6.791949272155762e-05,
           "bdata": "AHCOuA==",
           "dtype": "f4",
           "shape": "1"
          },
          "bdata": "AHCOuA==",
          "dtype": "f4"
         }
        },
        {
         "hovertemplate": "color=fine<br>0=%{x}<br>1=%{y}<br>2=%{z}<extra></extra>",
         "legendgroup": "fine",
         "marker": {
          "color": "#FFA15A",
          "symbol": "circle"
         },
         "mode": "markers",
         "name": "fine",
         "scene": "scene",
         "showlegend": true,
         "type": "scatter3d",
         "x": {
          "_inputArray": {
           "0": 0.44795340299606323,
           "bdata": "JlrlPg==",
           "dtype": "f4",
           "shape": "1"
          },
          "bdata": "JlrlPg==",
          "dtype": "f4"
         },
         "y": {
          "_inputArray": {
           "0": -0.06343759596347809,
           "bdata": "kuuBvQ==",
           "dtype": "f4",
           "shape": "1"
          },
          "bdata": "kuuBvQ==",
          "dtype": "f4"
         },
         "z": {
          "_inputArray": {
           "0": 0.015365898609161377,
           "bdata": "QMF7PA==",
           "dtype": "f4",
           "shape": "1"
          },
          "bdata": "QMF7PA==",
          "dtype": "f4"
         }
        },
        {
         "hovertemplate": "color=give<br>0=%{x}<br>1=%{y}<br>2=%{z}<extra></extra>",
         "legendgroup": "give",
         "marker": {
          "color": "#19d3f3",
          "symbol": "circle"
         },
         "mode": "markers",
         "name": "give",
         "scene": "scene",
         "showlegend": true,
         "type": "scatter3d",
         "x": {
          "_inputArray": {
           "0": 0.43709415197372437,
           "bdata": "zsrfPg==",
           "dtype": "f4",
           "shape": "1"
          },
          "bdata": "zsrfPg==",
          "dtype": "f4"
         },
         "y": {
          "_inputArray": {
           "0": -0.21034978330135345,
           "bdata": "72VXvg==",
           "dtype": "f4",
           "shape": "1"
          },
          "bdata": "72VXvg==",
          "dtype": "f4"
         },
         "z": {
          "_inputArray": {
           "0": -0.20593518018722534,
           "bdata": "rOBSvg==",
           "dtype": "f4",
           "shape": "1"
          },
          "bdata": "rOBSvg==",
          "dtype": "f4"
         }
        },
        {
         "hovertemplate": "color=talk<br>0=%{x}<br>1=%{y}<br>2=%{z}<extra></extra>",
         "legendgroup": "talk",
         "marker": {
          "color": "#FF6692",
          "symbol": "circle"
         },
         "mode": "markers",
         "name": "talk",
         "scene": "scene",
         "showlegend": true,
         "type": "scatter3d",
         "x": {
          "_inputArray": {
           "0": 0.5056720972061157,
           "bdata": "unMBPw==",
           "dtype": "f4",
           "shape": "1"
          },
          "bdata": "unMBPw==",
          "dtype": "f4"
         },
         "y": {
          "_inputArray": {
           "0": -0.17591936886310577,
           "bdata": "NSQ0vg==",
           "dtype": "f4",
           "shape": "1"
          },
          "bdata": "NSQ0vg==",
          "dtype": "f4"
         },
         "z": {
          "_inputArray": {
           "0": -0.025950968265533447,
           "bdata": "IJfUvA==",
           "dtype": "f4",
           "shape": "1"
          },
          "bdata": "IJfUvA==",
          "dtype": "f4"
         }
        },
        {
         "hovertemplate": "color=baby<br>0=%{x}<br>1=%{y}<br>2=%{z}<extra></extra>",
         "legendgroup": "baby",
         "marker": {
          "color": "#B6E880",
          "symbol": "circle"
         },
         "mode": "markers",
         "name": "baby",
         "scene": "scene",
         "showlegend": true,
         "type": "scatter3d",
         "x": {
          "_inputArray": {
           "0": 0.4624468684196472,
           "bdata": "1sXsPg==",
           "dtype": "f4",
           "shape": "1"
          },
          "bdata": "1sXsPg==",
          "dtype": "f4"
         },
         "y": {
          "_inputArray": {
           "0": -0.15499641001224518,
           "bdata": "Ybcevg==",
           "dtype": "f4",
           "shape": "1"
          },
          "bdata": "Ybcevg==",
          "dtype": "f4"
         },
         "z": {
          "_inputArray": {
           "0": 0.018284261226654053,
           "bdata": "4MiVPA==",
           "dtype": "f4",
           "shape": "1"
          },
          "bdata": "4MiVPA==",
          "dtype": "f4"
         }
        },
        {
         "hovertemplate": "color=even<br>0=%{x}<br>1=%{y}<br>2=%{z}<extra></extra>",
         "legendgroup": "even",
         "marker": {
          "color": "#FF97FF",
          "symbol": "circle"
         },
         "mode": "markers",
         "name": "even",
         "scene": "scene",
         "showlegend": true,
         "type": "scatter3d",
         "x": {
          "_inputArray": {
           "0": 0.42692434787750244,
           "bdata": "1JXaPg==",
           "dtype": "f4",
           "shape": "1"
          },
          "bdata": "1JXaPg==",
          "dtype": "f4"
         },
         "y": {
          "_inputArray": {
           "0": 0.08855490386486053,
           "bdata": "Rly1PQ==",
           "dtype": "f4",
           "shape": "1"
          },
          "bdata": "Rly1PQ==",
          "dtype": "f4"
         },
         "z": {
          "_inputArray": {
           "0": 0.08059053122997284,
           "bdata": "pgylPQ==",
           "dtype": "f4",
           "shape": "1"
          },
          "bdata": "pgylPQ==",
          "dtype": "f4"
         }
        },
        {
         "hovertemplate": "color=actually<br>0=%{x}<br>1=%{y}<br>2=%{z}<extra></extra>",
         "legendgroup": "actually",
         "marker": {
          "color": "#FECB52",
          "symbol": "circle"
         },
         "mode": "markers",
         "name": "actually",
         "scene": "scene",
         "showlegend": true,
         "type": "scatter3d",
         "x": {
          "_inputArray": {
           "0": 0.3991903066635132,
           "bdata": "rGLMPg==",
           "dtype": "f4",
           "shape": "1"
          },
          "bdata": "rGLMPg==",
          "dtype": "f4"
         },
         "y": {
          "_inputArray": {
           "0": 0.1747918576002121,
           "bdata": "o/wyPg==",
           "dtype": "f4",
           "shape": "1"
          },
          "bdata": "o/wyPg==",
          "dtype": "f4"
         },
         "z": {
          "_inputArray": {
           "0": 0.12271735072135925,
           "bdata": "PFP7PQ==",
           "dtype": "f4",
           "shape": "1"
          },
          "bdata": "PFP7PQ==",
          "dtype": "f4"
         }
        },
        {
         "hovertemplate": "color=ah<br>0=%{x}<br>1=%{y}<br>2=%{z}<extra></extra>",
         "legendgroup": "ah",
         "marker": {
          "color": "#636efa",
          "symbol": "circle"
         },
         "mode": "markers",
         "name": "ah",
         "scene": "scene",
         "showlegend": true,
         "type": "scatter3d",
         "x": {
          "_inputArray": {
           "0": 0.3540017008781433,
           "bdata": "tj+1Pg==",
           "dtype": "f4",
           "shape": "1"
          },
          "bdata": "tj+1Pg==",
          "dtype": "f4"
         },
         "y": {
          "_inputArray": {
           "0": -0.019143618643283844,
           "bdata": "FNOcvA==",
           "dtype": "f4",
           "shape": "1"
          },
          "bdata": "FNOcvA==",
          "dtype": "f4"
         },
         "z": {
          "_inputArray": {
           "0": -0.06523573398590088,
           "bdata": "UJqFvQ==",
           "dtype": "f4",
           "shape": "1"
          },
          "bdata": "UJqFvQ==",
          "dtype": "f4"
         }
        },
        {
         "hovertemplate": "color=work<br>0=%{x}<br>1=%{y}<br>2=%{z}<extra></extra>",
         "legendgroup": "work",
         "marker": {
          "color": "#EF553B",
          "symbol": "circle"
         },
         "mode": "markers",
         "name": "work",
         "scene": "scene",
         "showlegend": true,
         "type": "scatter3d",
         "x": {
          "_inputArray": {
           "0": 0.3625834584236145,
           "bdata": "iqS5Pg==",
           "dtype": "f4",
           "shape": "1"
          },
          "bdata": "iqS5Pg==",
          "dtype": "f4"
         },
         "y": {
          "_inputArray": {
           "0": 0.14512519538402557,
           "bdata": "s5sUPg==",
           "dtype": "f4",
           "shape": "1"
          },
          "bdata": "s5sUPg==",
          "dtype": "f4"
         },
         "z": {
          "_inputArray": {
           "0": 0.18522095680236816,
           "bdata": "kKo9Pg==",
           "dtype": "f4",
           "shape": "1"
          },
          "bdata": "kKo9Pg==",
          "dtype": "f4"
         }
        },
        {
         "hovertemplate": "color=um<br>0=%{x}<br>1=%{y}<br>2=%{z}<extra></extra>",
         "legendgroup": "um",
         "marker": {
          "color": "#00cc96",
          "symbol": "circle"
         },
         "mode": "markers",
         "name": "um",
         "scene": "scene",
         "showlegend": true,
         "type": "scatter3d",
         "x": {
          "_inputArray": {
           "0": 0.36971357464790344,
           "bdata": "GUu9Pg==",
           "dtype": "f4",
           "shape": "1"
          },
          "bdata": "GUu9Pg==",
          "dtype": "f4"
         },
         "y": {
          "_inputArray": {
           "0": 0.008333250880241394,
           "bdata": "MIgIPA==",
           "dtype": "f4",
           "shape": "1"
          },
          "bdata": "MIgIPA==",
          "dtype": "f4"
         },
         "z": {
          "_inputArray": {
           "0": 0.0462469607591629,
           "bdata": "dG09PQ==",
           "dtype": "f4",
           "shape": "1"
          },
          "bdata": "dG09PQ==",
          "dtype": "f4"
         }
        },
        {
         "hovertemplate": "color=room<br>0=%{x}<br>1=%{y}<br>2=%{z}<extra></extra>",
         "legendgroup": "room",
         "marker": {
          "color": "#ab63fa",
          "symbol": "circle"
         },
         "mode": "markers",
         "name": "room",
         "scene": "scene",
         "showlegend": true,
         "type": "scatter3d",
         "x": {
          "_inputArray": {
           "0": 0.17671634256839752,
           "bdata": "IfU0Pg==",
           "dtype": "f4",
           "shape": "1"
          },
          "bdata": "IfU0Pg==",
          "dtype": "f4"
         },
         "y": {
          "_inputArray": {
           "0": -0.3565952479839325,
           "bdata": "p5O2vg==",
           "dtype": "f4",
           "shape": "1"
          },
          "bdata": "p5O2vg==",
          "dtype": "f4"
         },
         "z": {
          "_inputArray": {
           "0": 0.20732004940509796,
           "bdata": "tUtUPg==",
           "dtype": "f4",
           "shape": "1"
          },
          "bdata": "tUtUPg==",
          "dtype": "f4"
         }
        },
        {
         "hovertemplate": "color=night<br>0=%{x}<br>1=%{y}<br>2=%{z}<extra></extra>",
         "legendgroup": "night",
         "marker": {
          "color": "#FFA15A",
          "symbol": "circle"
         },
         "mode": "markers",
         "name": "night",
         "scene": "scene",
         "showlegend": true,
         "type": "scatter3d",
         "x": {
          "_inputArray": {
           "0": 0.42147010564804077,
           "bdata": "7srXPg==",
           "dtype": "f4",
           "shape": "1"
          },
          "bdata": "7srXPg==",
          "dtype": "f4"
         },
         "y": {
          "_inputArray": {
           "0": -0.14367736876010895,
           "bdata": "KSATvg==",
           "dtype": "f4",
           "shape": "1"
          },
          "bdata": "KSATvg==",
          "dtype": "f4"
         },
         "z": {
          "_inputArray": {
           "0": 0.1203610748052597,
           "bdata": "3n/2PQ==",
           "dtype": "f4",
           "shape": "1"
          },
          "bdata": "3n/2PQ==",
          "dtype": "f4"
         }
        },
        {
         "hovertemplate": "color=listen<br>0=%{x}<br>1=%{y}<br>2=%{z}<extra></extra>",
         "legendgroup": "listen",
         "marker": {
          "color": "#19d3f3",
          "symbol": "circle"
         },
         "mode": "markers",
         "name": "listen",
         "scene": "scene",
         "showlegend": true,
         "type": "scatter3d",
         "x": {
          "_inputArray": {
           "0": 0.4730645418167114,
           "bdata": "hDXyPg==",
           "dtype": "f4",
           "shape": "1"
          },
          "bdata": "hDXyPg==",
          "dtype": "f4"
         },
         "y": {
          "_inputArray": {
           "0": -0.028525300323963165,
           "bdata": "5K3pvA==",
           "dtype": "f4",
           "shape": "1"
          },
          "bdata": "5K3pvA==",
          "dtype": "f4"
         },
         "z": {
          "_inputArray": {
           "0": 0.0917472094297409,
           "bdata": "9uW7PQ==",
           "dtype": "f4",
           "shape": "1"
          },
          "bdata": "9uW7PQ==",
          "dtype": "f4"
         }
        },
        {
         "hovertemplate": "color=new<br>0=%{x}<br>1=%{y}<br>2=%{z}<extra></extra>",
         "legendgroup": "new",
         "marker": {
          "color": "#FF6692",
          "symbol": "circle"
         },
         "mode": "markers",
         "name": "new",
         "scene": "scene",
         "showlegend": true,
         "type": "scatter3d",
         "x": {
          "_inputArray": {
           "0": 0.30596646666526794,
           "bdata": "o6ecPg==",
           "dtype": "f4",
           "shape": "1"
          },
          "bdata": "o6ecPg==",
          "dtype": "f4"
         },
         "y": {
          "_inputArray": {
           "0": -0.2524988353252411,
           "bdata": "h0eBvg==",
           "dtype": "f4",
           "shape": "1"
          },
          "bdata": "h0eBvg==",
          "dtype": "f4"
         },
         "z": {
          "_inputArray": {
           "0": 0.08253757655620575,
           "bdata": "dgmpPQ==",
           "dtype": "f4",
           "shape": "1"
          },
          "bdata": "dgmpPQ==",
          "dtype": "f4"
         }
        },
        {
         "hovertemplate": "color=nice<br>0=%{x}<br>1=%{y}<br>2=%{z}<extra></extra>",
         "legendgroup": "nice",
         "marker": {
          "color": "#B6E880",
          "symbol": "circle"
         },
         "mode": "markers",
         "name": "nice",
         "scene": "scene",
         "showlegend": true,
         "type": "scatter3d",
         "x": {
          "_inputArray": {
           "0": 0.2652456760406494,
           "bdata": "SM6HPg==",
           "dtype": "f4",
           "shape": "1"
          },
          "bdata": "SM6HPg==",
          "dtype": "f4"
         },
         "y": {
          "_inputArray": {
           "0": 0.07697974145412445,
           "bdata": "jqedPQ==",
           "dtype": "f4",
           "shape": "1"
          },
          "bdata": "jqedPQ==",
          "dtype": "f4"
         },
         "z": {
          "_inputArray": {
           "0": 0.14986512064933777,
           "bdata": "PnYZPg==",
           "dtype": "f4",
           "shape": "1"
          },
          "bdata": "PnYZPg==",
          "dtype": "f4"
         }
        },
        {
         "hovertemplate": "color=anything<br>0=%{x}<br>1=%{y}<br>2=%{z}<extra></extra>",
         "legendgroup": "anything",
         "marker": {
          "color": "#FF97FF",
          "symbol": "circle"
         },
         "mode": "markers",
         "name": "anything",
         "scene": "scene",
         "showlegend": true,
         "type": "scatter3d",
         "x": {
          "_inputArray": {
           "0": 0.4868050217628479,
           "bdata": "gj75Pg==",
           "dtype": "f4",
           "shape": "1"
          },
          "bdata": "gj75Pg==",
          "dtype": "f4"
         },
         "y": {
          "_inputArray": {
           "0": 0.1003102958202362,
           "bdata": "fG/NPQ==",
           "dtype": "f4",
           "shape": "1"
          },
          "bdata": "fG/NPQ==",
          "dtype": "f4"
         },
         "z": {
          "_inputArray": {
           "0": 0.12589603662490845,
           "bdata": "5OoAPg==",
           "dtype": "f4",
           "shape": "1"
          },
          "bdata": "5OoAPg==",
          "dtype": "f4"
         }
        },
        {
         "hovertemplate": "color=call<br>0=%{x}<br>1=%{y}<br>2=%{z}<extra></extra>",
         "legendgroup": "call",
         "marker": {
          "color": "#FECB52",
          "symbol": "circle"
         },
         "mode": "markers",
         "name": "call",
         "scene": "scene",
         "showlegend": true,
         "type": "scatter3d",
         "x": {
          "_inputArray": {
           "0": 0.48204007744789124,
           "bdata": "9c32Pg==",
           "dtype": "f4",
           "shape": "1"
          },
          "bdata": "9c32Pg==",
          "dtype": "f4"
         },
         "y": {
          "_inputArray": {
           "0": -0.21289876103401184,
           "bdata": "IgJavg==",
           "dtype": "f4",
           "shape": "1"
          },
          "bdata": "IgJavg==",
          "dtype": "f4"
         },
         "z": {
          "_inputArray": {
           "0": -0.13559123873710632,
           "bdata": "btgKvg==",
           "dtype": "f4",
           "shape": "1"
          },
          "bdata": "btgKvg==",
          "dtype": "f4"
         }
        },
        {
         "hovertemplate": "color=thanks<br>0=%{x}<br>1=%{y}<br>2=%{z}<extra></extra>",
         "legendgroup": "thanks",
         "marker": {
          "color": "#636efa",
          "symbol": "circle"
         },
         "mode": "markers",
         "name": "thanks",
         "scene": "scene",
         "showlegend": true,
         "type": "scatter3d",
         "x": {
          "_inputArray": {
           "0": 0.40021929144859314,
           "bdata": "i+nMPg==",
           "dtype": "f4",
           "shape": "1"
          },
          "bdata": "i+nMPg==",
          "dtype": "f4"
         },
         "y": {
          "_inputArray": {
           "0": -0.12748253345489502,
           "bdata": "yIoCvg==",
           "dtype": "f4",
           "shape": "1"
          },
          "bdata": "yIoCvg==",
          "dtype": "f4"
         },
         "z": {
          "_inputArray": {
           "0": -0.07203125953674316,
           "bdata": "IIWTvQ==",
           "dtype": "f4",
           "shape": "1"
          },
          "bdata": "IIWTvQ==",
          "dtype": "f4"
         }
        },
        {
         "hovertemplate": "color=central<br>0=%{x}<br>1=%{y}<br>2=%{z}<extra></extra>",
         "legendgroup": "central",
         "marker": {
          "color": "#EF553B",
          "symbol": "circle"
         },
         "mode": "markers",
         "name": "central",
         "scene": "scene",
         "showlegend": true,
         "type": "scatter3d",
         "x": {
          "_inputArray": {
           "0": 0.06761051714420319,
           "bdata": "YneKPQ==",
           "dtype": "f4",
           "shape": "1"
          },
          "bdata": "YneKPQ==",
          "dtype": "f4"
         },
         "y": {
          "_inputArray": {
           "0": -0.4605921506881714,
           "bdata": "vNLrvg==",
           "dtype": "f4",
           "shape": "1"
          },
          "bdata": "vNLrvg==",
          "dtype": "f4"
         },
         "z": {
          "_inputArray": {
           "0": 0.2197231948375702,
           "bdata": "Hv9gPg==",
           "dtype": "f4",
           "shape": "1"
          },
          "bdata": "Hv9gPg==",
          "dtype": "f4"
         }
        },
        {
         "hovertemplate": "color=ya<br>0=%{x}<br>1=%{y}<br>2=%{z}<extra></extra>",
         "legendgroup": "ya",
         "marker": {
          "color": "#00cc96",
          "symbol": "circle"
         },
         "mode": "markers",
         "name": "ya",
         "scene": "scene",
         "showlegend": true,
         "type": "scatter3d",
         "x": {
          "_inputArray": {
           "0": 0.36913543939590454,
           "bdata": "Uv+8Pg==",
           "dtype": "f4",
           "shape": "1"
          },
          "bdata": "Uv+8Pg==",
          "dtype": "f4"
         },
         "y": {
          "_inputArray": {
           "0": 0.09261062741279602,
           "bdata": "pKq9PQ==",
           "dtype": "f4",
           "shape": "1"
          },
          "bdata": "pKq9PQ==",
          "dtype": "f4"
         },
         "z": {
          "_inputArray": {
           "0": 0.0687917172908783,
           "bdata": "rOKMPQ==",
           "dtype": "f4",
           "shape": "1"
          },
          "bdata": "rOKMPQ==",
          "dtype": "f4"
         }
        },
        {
         "hovertemplate": "color=perk<br>0=%{x}<br>1=%{y}<br>2=%{z}<extra></extra>",
         "legendgroup": "perk",
         "marker": {
          "color": "#ab63fa",
          "symbol": "circle"
         },
         "mode": "markers",
         "name": "perk",
         "scene": "scene",
         "showlegend": true,
         "type": "scatter3d",
         "x": {
          "_inputArray": {
           "0": 0.0641666054725647,
           "bdata": "yGmDPQ==",
           "dtype": "f4",
           "shape": "1"
          },
          "bdata": "yGmDPQ==",
          "dtype": "f4"
         },
         "y": {
          "_inputArray": {
           "0": -0.49622368812561035,
           "bdata": "CBH+vg==",
           "dtype": "f4",
           "shape": "1"
          },
          "bdata": "CBH+vg==",
          "dtype": "f4"
         },
         "z": {
          "_inputArray": {
           "0": 0.18937113881111145,
           "bdata": "gupBPg==",
           "dtype": "f4",
           "shape": "1"
          },
          "bdata": "gupBPg==",
          "dtype": "f4"
         }
        },
        {
         "hovertemplate": "color=stuff<br>0=%{x}<br>1=%{y}<br>2=%{z}<extra></extra>",
         "legendgroup": "stuff",
         "marker": {
          "color": "#FFA15A",
          "symbol": "circle"
         },
         "mode": "markers",
         "name": "stuff",
         "scene": "scene",
         "showlegend": true,
         "type": "scatter3d",
         "x": {
          "_inputArray": {
           "0": 0.3421837389469147,
           "bdata": "tTKvPg==",
           "dtype": "f4",
           "shape": "1"
          },
          "bdata": "tTKvPg==",
          "dtype": "f4"
         },
         "y": {
          "_inputArray": {
           "0": 0.10384902358055115,
           "bdata": "zK7UPQ==",
           "dtype": "f4",
           "shape": "1"
          },
          "bdata": "zK7UPQ==",
          "dtype": "f4"
         },
         "z": {
          "_inputArray": {
           "0": 0.17488813400268555,
           "bdata": "4BUzPg==",
           "dtype": "f4",
           "shape": "1"
          },
          "bdata": "4BUzPg==",
          "dtype": "f4"
         }
        },
        {
         "hovertemplate": "color=feel<br>0=%{x}<br>1=%{y}<br>2=%{z}<extra></extra>",
         "legendgroup": "feel",
         "marker": {
          "color": "#19d3f3",
          "symbol": "circle"
         },
         "mode": "markers",
         "name": "feel",
         "scene": "scene",
         "showlegend": true,
         "type": "scatter3d",
         "x": {
          "_inputArray": {
           "0": 0.47470590472221375,
           "bdata": "pwzzPg==",
           "dtype": "f4",
           "shape": "1"
          },
          "bdata": "pwzzPg==",
          "dtype": "f4"
         },
         "y": {
          "_inputArray": {
           "0": 0.09530402719974518,
           "bdata": "wi7DPQ==",
           "dtype": "f4",
           "shape": "1"
          },
          "bdata": "wi7DPQ==",
          "dtype": "f4"
         },
         "z": {
          "_inputArray": {
           "0": 0.06979833543300629,
           "bdata": "bvKOPQ==",
           "dtype": "f4",
           "shape": "1"
          },
          "bdata": "bvKOPQ==",
          "dtype": "f4"
         }
        },
        {
         "hovertemplate": "color=talking<br>0=%{x}<br>1=%{y}<br>2=%{z}<extra></extra>",
         "legendgroup": "talking",
         "marker": {
          "color": "#FF6692",
          "symbol": "circle"
         },
         "mode": "markers",
         "name": "talking",
         "scene": "scene",
         "showlegend": true,
         "type": "scatter3d",
         "x": {
          "_inputArray": {
           "0": 0.3345707058906555,
           "bdata": "2kyrPg==",
           "dtype": "f4",
           "shape": "1"
          },
          "bdata": "2kyrPg==",
          "dtype": "f4"
         },
         "y": {
          "_inputArray": {
           "0": -0.07161788642406464,
           "bdata": "ZqySvQ==",
           "dtype": "f4",
           "shape": "1"
          },
          "bdata": "ZqySvQ==",
          "dtype": "f4"
         },
         "z": {
          "_inputArray": {
           "0": 0.41501384973526,
           "bdata": "snzUPg==",
           "dtype": "f4",
           "shape": "1"
          },
          "bdata": "snzUPg==",
          "dtype": "f4"
         }
        },
        {
         "hovertemplate": "color=day<br>0=%{x}<br>1=%{y}<br>2=%{z}<extra></extra>",
         "legendgroup": "day",
         "marker": {
          "color": "#B6E880",
          "symbol": "circle"
         },
         "mode": "markers",
         "name": "day",
         "scene": "scene",
         "showlegend": true,
         "type": "scatter3d",
         "x": {
          "_inputArray": {
           "0": 0.3790161609649658,
           "bdata": "aA7CPg==",
           "dtype": "f4",
           "shape": "1"
          },
          "bdata": "aA7CPg==",
          "dtype": "f4"
         },
         "y": {
          "_inputArray": {
           "0": 0.0026971101760864258,
           "bdata": "AMIwOw==",
           "dtype": "f4",
           "shape": "1"
          },
          "bdata": "AMIwOw==",
          "dtype": "f4"
         },
         "z": {
          "_inputArray": {
           "0": 0.18364481627941132,
           "bdata": "Yw08Pg==",
           "dtype": "f4",
           "shape": "1"
          },
          "bdata": "Yw08Pg==",
          "dtype": "f4"
         }
        },
        {
         "hovertemplate": "color=ever<br>0=%{x}<br>1=%{y}<br>2=%{z}<extra></extra>",
         "legendgroup": "ever",
         "marker": {
          "color": "#FF97FF",
          "symbol": "circle"
         },
         "mode": "markers",
         "name": "ever",
         "scene": "scene",
         "showlegend": true,
         "type": "scatter3d",
         "x": {
          "_inputArray": {
           "0": 0.3926457166671753,
           "bdata": "3AjJPg==",
           "dtype": "f4",
           "shape": "1"
          },
          "bdata": "3AjJPg==",
          "dtype": "f4"
         },
         "y": {
          "_inputArray": {
           "0": 0.14208902418613434,
           "bdata": "yX8RPg==",
           "dtype": "f4",
           "shape": "1"
          },
          "bdata": "yX8RPg==",
          "dtype": "f4"
         },
         "z": {
          "_inputArray": {
           "0": 0.20601698756217957,
           "bdata": "HvZSPg==",
           "dtype": "f4",
           "shape": "1"
          },
          "bdata": "HvZSPg==",
          "dtype": "f4"
         }
        },
        {
         "hovertemplate": "color=last<br>0=%{x}<br>1=%{y}<br>2=%{z}<extra></extra>",
         "legendgroup": "last",
         "marker": {
          "color": "#FECB52",
          "symbol": "circle"
         },
         "mode": "markers",
         "name": "last",
         "scene": "scene",
         "showlegend": true,
         "type": "scatter3d",
         "x": {
          "_inputArray": {
           "0": 0.38604846596717834,
           "bdata": "JajFPg==",
           "dtype": "f4",
           "shape": "1"
          },
          "bdata": "JajFPg==",
          "dtype": "f4"
         },
         "y": {
          "_inputArray": {
           "0": -0.07446232438087463,
           "bdata": "tH+YvQ==",
           "dtype": "f4",
           "shape": "1"
          },
          "bdata": "tH+YvQ==",
          "dtype": "f4"
         },
         "z": {
          "_inputArray": {
           "0": 0.09211485087871552,
           "bdata": "tqa8PQ==",
           "dtype": "f4",
           "shape": "1"
          },
          "bdata": "tqa8PQ==",
          "dtype": "f4"
         }
        }
       ],
       "layout": {
        "autosize": true,
        "legend": {
         "title": {
          "text": "color"
         },
         "tracegroupgap": 0
        },
        "margin": {
         "t": 60
        },
        "scene": {
         "aspectmode": "auto",
         "aspectratio": {
          "x": 0.7812705028025743,
          "y": 1.2419668258033754,
          "z": 1.0305962949226541
         },
         "camera": {
          "center": {
           "x": 0,
           "y": 0,
           "z": 0
          },
          "eye": {
           "x": 0.9057295806786654,
           "y": 0.9057295806786653,
           "z": 0.9057295806786654
          },
          "projection": {
           "type": "perspective"
          },
          "up": {
           "x": 0,
           "y": 0,
           "z": 1
          }
         },
         "domain": {
          "x": [
           0,
           1
          ],
          "y": [
           0,
           1
          ]
         },
         "xaxis": {
          "title": {
           "text": "0"
          },
          "type": "linear"
         },
         "yaxis": {
          "title": {
           "text": "1"
          },
          "type": "linear"
         },
         "zaxis": {
          "title": {
           "text": "2"
          },
          "type": "linear"
         }
        },
        "template": {
         "data": {
          "bar": [
           {
            "error_x": {
             "color": "#2a3f5f"
            },
            "error_y": {
             "color": "#2a3f5f"
            },
            "marker": {
             "line": {
              "color": "#E5ECF6",
              "width": 0.5
             },
             "pattern": {
              "fillmode": "overlay",
              "size": 10,
              "solidity": 0.2
             }
            },
            "type": "bar"
           }
          ],
          "barpolar": [
           {
            "marker": {
             "line": {
              "color": "#E5ECF6",
              "width": 0.5
             },
             "pattern": {
              "fillmode": "overlay",
              "size": 10,
              "solidity": 0.2
             }
            },
            "type": "barpolar"
           }
          ],
          "carpet": [
           {
            "aaxis": {
             "endlinecolor": "#2a3f5f",
             "gridcolor": "white",
             "linecolor": "white",
             "minorgridcolor": "white",
             "startlinecolor": "#2a3f5f"
            },
            "baxis": {
             "endlinecolor": "#2a3f5f",
             "gridcolor": "white",
             "linecolor": "white",
             "minorgridcolor": "white",
             "startlinecolor": "#2a3f5f"
            },
            "type": "carpet"
           }
          ],
          "choropleth": [
           {
            "colorbar": {
             "outlinewidth": 0,
             "ticks": ""
            },
            "type": "choropleth"
           }
          ],
          "contour": [
           {
            "colorbar": {
             "outlinewidth": 0,
             "ticks": ""
            },
            "colorscale": [
             [
              0,
              "#0d0887"
             ],
             [
              0.1111111111111111,
              "#46039f"
             ],
             [
              0.2222222222222222,
              "#7201a8"
             ],
             [
              0.3333333333333333,
              "#9c179e"
             ],
             [
              0.4444444444444444,
              "#bd3786"
             ],
             [
              0.5555555555555556,
              "#d8576b"
             ],
             [
              0.6666666666666666,
              "#ed7953"
             ],
             [
              0.7777777777777778,
              "#fb9f3a"
             ],
             [
              0.8888888888888888,
              "#fdca26"
             ],
             [
              1,
              "#f0f921"
             ]
            ],
            "type": "contour"
           }
          ],
          "contourcarpet": [
           {
            "colorbar": {
             "outlinewidth": 0,
             "ticks": ""
            },
            "type": "contourcarpet"
           }
          ],
          "heatmap": [
           {
            "colorbar": {
             "outlinewidth": 0,
             "ticks": ""
            },
            "colorscale": [
             [
              0,
              "#0d0887"
             ],
             [
              0.1111111111111111,
              "#46039f"
             ],
             [
              0.2222222222222222,
              "#7201a8"
             ],
             [
              0.3333333333333333,
              "#9c179e"
             ],
             [
              0.4444444444444444,
              "#bd3786"
             ],
             [
              0.5555555555555556,
              "#d8576b"
             ],
             [
              0.6666666666666666,
              "#ed7953"
             ],
             [
              0.7777777777777778,
              "#fb9f3a"
             ],
             [
              0.8888888888888888,
              "#fdca26"
             ],
             [
              1,
              "#f0f921"
             ]
            ],
            "type": "heatmap"
           }
          ],
          "histogram": [
           {
            "marker": {
             "pattern": {
              "fillmode": "overlay",
              "size": 10,
              "solidity": 0.2
             }
            },
            "type": "histogram"
           }
          ],
          "histogram2d": [
           {
            "colorbar": {
             "outlinewidth": 0,
             "ticks": ""
            },
            "colorscale": [
             [
              0,
              "#0d0887"
             ],
             [
              0.1111111111111111,
              "#46039f"
             ],
             [
              0.2222222222222222,
              "#7201a8"
             ],
             [
              0.3333333333333333,
              "#9c179e"
             ],
             [
              0.4444444444444444,
              "#bd3786"
             ],
             [
              0.5555555555555556,
              "#d8576b"
             ],
             [
              0.6666666666666666,
              "#ed7953"
             ],
             [
              0.7777777777777778,
              "#fb9f3a"
             ],
             [
              0.8888888888888888,
              "#fdca26"
             ],
             [
              1,
              "#f0f921"
             ]
            ],
            "type": "histogram2d"
           }
          ],
          "histogram2dcontour": [
           {
            "colorbar": {
             "outlinewidth": 0,
             "ticks": ""
            },
            "colorscale": [
             [
              0,
              "#0d0887"
             ],
             [
              0.1111111111111111,
              "#46039f"
             ],
             [
              0.2222222222222222,
              "#7201a8"
             ],
             [
              0.3333333333333333,
              "#9c179e"
             ],
             [
              0.4444444444444444,
              "#bd3786"
             ],
             [
              0.5555555555555556,
              "#d8576b"
             ],
             [
              0.6666666666666666,
              "#ed7953"
             ],
             [
              0.7777777777777778,
              "#fb9f3a"
             ],
             [
              0.8888888888888888,
              "#fdca26"
             ],
             [
              1,
              "#f0f921"
             ]
            ],
            "type": "histogram2dcontour"
           }
          ],
          "mesh3d": [
           {
            "colorbar": {
             "outlinewidth": 0,
             "ticks": ""
            },
            "type": "mesh3d"
           }
          ],
          "parcoords": [
           {
            "line": {
             "colorbar": {
              "outlinewidth": 0,
              "ticks": ""
             }
            },
            "type": "parcoords"
           }
          ],
          "pie": [
           {
            "automargin": true,
            "type": "pie"
           }
          ],
          "scatter": [
           {
            "fillpattern": {
             "fillmode": "overlay",
             "size": 10,
             "solidity": 0.2
            },
            "type": "scatter"
           }
          ],
          "scatter3d": [
           {
            "line": {
             "colorbar": {
              "outlinewidth": 0,
              "ticks": ""
             }
            },
            "marker": {
             "colorbar": {
              "outlinewidth": 0,
              "ticks": ""
             }
            },
            "type": "scatter3d"
           }
          ],
          "scattercarpet": [
           {
            "marker": {
             "colorbar": {
              "outlinewidth": 0,
              "ticks": ""
             }
            },
            "type": "scattercarpet"
           }
          ],
          "scattergeo": [
           {
            "marker": {
             "colorbar": {
              "outlinewidth": 0,
              "ticks": ""
             }
            },
            "type": "scattergeo"
           }
          ],
          "scattergl": [
           {
            "marker": {
             "colorbar": {
              "outlinewidth": 0,
              "ticks": ""
             }
            },
            "type": "scattergl"
           }
          ],
          "scattermap": [
           {
            "marker": {
             "colorbar": {
              "outlinewidth": 0,
              "ticks": ""
             }
            },
            "type": "scattermap"
           }
          ],
          "scattermapbox": [
           {
            "marker": {
             "colorbar": {
              "outlinewidth": 0,
              "ticks": ""
             }
            },
            "type": "scattermapbox"
           }
          ],
          "scatterpolar": [
           {
            "marker": {
             "colorbar": {
              "outlinewidth": 0,
              "ticks": ""
             }
            },
            "type": "scatterpolar"
           }
          ],
          "scatterpolargl": [
           {
            "marker": {
             "colorbar": {
              "outlinewidth": 0,
              "ticks": ""
             }
            },
            "type": "scatterpolargl"
           }
          ],
          "scatterternary": [
           {
            "marker": {
             "colorbar": {
              "outlinewidth": 0,
              "ticks": ""
             }
            },
            "type": "scatterternary"
           }
          ],
          "surface": [
           {
            "colorbar": {
             "outlinewidth": 0,
             "ticks": ""
            },
            "colorscale": [
             [
              0,
              "#0d0887"
             ],
             [
              0.1111111111111111,
              "#46039f"
             ],
             [
              0.2222222222222222,
              "#7201a8"
             ],
             [
              0.3333333333333333,
              "#9c179e"
             ],
             [
              0.4444444444444444,
              "#bd3786"
             ],
             [
              0.5555555555555556,
              "#d8576b"
             ],
             [
              0.6666666666666666,
              "#ed7953"
             ],
             [
              0.7777777777777778,
              "#fb9f3a"
             ],
             [
              0.8888888888888888,
              "#fdca26"
             ],
             [
              1,
              "#f0f921"
             ]
            ],
            "type": "surface"
           }
          ],
          "table": [
           {
            "cells": {
             "fill": {
              "color": "#EBF0F8"
             },
             "line": {
              "color": "white"
             }
            },
            "header": {
             "fill": {
              "color": "#C8D4E3"
             },
             "line": {
              "color": "white"
             }
            },
            "type": "table"
           }
          ]
         },
         "layout": {
          "annotationdefaults": {
           "arrowcolor": "#2a3f5f",
           "arrowhead": 0,
           "arrowwidth": 1
          },
          "autotypenumbers": "strict",
          "coloraxis": {
           "colorbar": {
            "outlinewidth": 0,
            "ticks": ""
           }
          },
          "colorscale": {
           "diverging": [
            [
             0,
             "#8e0152"
            ],
            [
             0.1,
             "#c51b7d"
            ],
            [
             0.2,
             "#de77ae"
            ],
            [
             0.3,
             "#f1b6da"
            ],
            [
             0.4,
             "#fde0ef"
            ],
            [
             0.5,
             "#f7f7f7"
            ],
            [
             0.6,
             "#e6f5d0"
            ],
            [
             0.7,
             "#b8e186"
            ],
            [
             0.8,
             "#7fbc41"
            ],
            [
             0.9,
             "#4d9221"
            ],
            [
             1,
             "#276419"
            ]
           ],
           "sequential": [
            [
             0,
             "#0d0887"
            ],
            [
             0.1111111111111111,
             "#46039f"
            ],
            [
             0.2222222222222222,
             "#7201a8"
            ],
            [
             0.3333333333333333,
             "#9c179e"
            ],
            [
             0.4444444444444444,
             "#bd3786"
            ],
            [
             0.5555555555555556,
             "#d8576b"
            ],
            [
             0.6666666666666666,
             "#ed7953"
            ],
            [
             0.7777777777777778,
             "#fb9f3a"
            ],
            [
             0.8888888888888888,
             "#fdca26"
            ],
            [
             1,
             "#f0f921"
            ]
           ],
           "sequentialminus": [
            [
             0,
             "#0d0887"
            ],
            [
             0.1111111111111111,
             "#46039f"
            ],
            [
             0.2222222222222222,
             "#7201a8"
            ],
            [
             0.3333333333333333,
             "#9c179e"
            ],
            [
             0.4444444444444444,
             "#bd3786"
            ],
            [
             0.5555555555555556,
             "#d8576b"
            ],
            [
             0.6666666666666666,
             "#ed7953"
            ],
            [
             0.7777777777777778,
             "#fb9f3a"
            ],
            [
             0.8888888888888888,
             "#fdca26"
            ],
            [
             1,
             "#f0f921"
            ]
           ]
          },
          "colorway": [
           "#636efa",
           "#EF553B",
           "#00cc96",
           "#ab63fa",
           "#FFA15A",
           "#19d3f3",
           "#FF6692",
           "#B6E880",
           "#FF97FF",
           "#FECB52"
          ],
          "font": {
           "color": "#2a3f5f"
          },
          "geo": {
           "bgcolor": "white",
           "lakecolor": "white",
           "landcolor": "#E5ECF6",
           "showlakes": true,
           "showland": true,
           "subunitcolor": "white"
          },
          "hoverlabel": {
           "align": "left"
          },
          "hovermode": "closest",
          "mapbox": {
           "style": "light"
          },
          "paper_bgcolor": "white",
          "plot_bgcolor": "#E5ECF6",
          "polar": {
           "angularaxis": {
            "gridcolor": "white",
            "linecolor": "white",
            "ticks": ""
           },
           "bgcolor": "#E5ECF6",
           "radialaxis": {
            "gridcolor": "white",
            "linecolor": "white",
            "ticks": ""
           }
          },
          "scene": {
           "xaxis": {
            "backgroundcolor": "#E5ECF6",
            "gridcolor": "white",
            "gridwidth": 2,
            "linecolor": "white",
            "showbackground": true,
            "ticks": "",
            "zerolinecolor": "white"
           },
           "yaxis": {
            "backgroundcolor": "#E5ECF6",
            "gridcolor": "white",
            "gridwidth": 2,
            "linecolor": "white",
            "showbackground": true,
            "ticks": "",
            "zerolinecolor": "white"
           },
           "zaxis": {
            "backgroundcolor": "#E5ECF6",
            "gridcolor": "white",
            "gridwidth": 2,
            "linecolor": "white",
            "showbackground": true,
            "ticks": "",
            "zerolinecolor": "white"
           }
          },
          "shapedefaults": {
           "line": {
            "color": "#2a3f5f"
           }
          },
          "ternary": {
           "aaxis": {
            "gridcolor": "white",
            "linecolor": "white",
            "ticks": ""
           },
           "baxis": {
            "gridcolor": "white",
            "linecolor": "white",
            "ticks": ""
           },
           "bgcolor": "#E5ECF6",
           "caxis": {
            "gridcolor": "white",
            "linecolor": "white",
            "ticks": ""
           }
          },
          "title": {
           "x": 0.05
          },
          "xaxis": {
           "automargin": true,
           "gridcolor": "white",
           "linecolor": "white",
           "ticks": "",
           "title": {
            "standoff": 15
           },
           "zerolinecolor": "white",
           "zerolinewidth": 2
          },
          "yaxis": {
           "automargin": true,
           "gridcolor": "white",
           "linecolor": "white",
           "ticks": "",
           "title": {
            "standoff": 15
           },
           "zerolinecolor": "white",
           "zerolinewidth": 2
          }
         }
        }
       }
      },
      "image/png": "[encoded data removed]"
     },
     "metadata": {},
     "output_type": "display_data"
    }
   ],
   "source": [
    "import plotly.express as px\n",
    "fig = px.scatter_3d(X[:100],x=0,y = 1, z=2,color= y[:100])\n",
    "fig.show()\n",
    "# similar kind of words a placed closer"
   ]
  },
  {
   "cell_type": "code",
   "execution_count": 35,
   "id": "41dbc294-1c10-4221-ad94-48277fec4905",
   "metadata": {},
   "outputs": [],
   "source": [
    "def find_similar_words(model, word, topn=5):\n",
    "    try:\n",
    "        similar = model.wv.most_similar(word, topn=topn)\n",
    "        print(f\"\\nTop {topn} words similar to '{word}':\")\n",
    "        for w, score in similar:\n",
    "            print(f\"{w} ({score:.4f})\")\n",
    "    except KeyError:\n",
    "        print(f\"'{word}' not in vocabulary!\")\n"
   ]
  },
  {
   "cell_type": "code",
   "execution_count": 49,
   "id": "90b8900c-e9fd-4d68-9244-ce6088c00e4b",
   "metadata": {},
   "outputs": [
    {
     "name": "stdout",
     "output_type": "stream",
     "text": [
      "\n",
      "Top 5 words similar to 'chandler':\n",
      "eddie (0.7739)\n",
      "janine (0.7721)\n",
      "joey (0.7668)\n",
      "erm (0.7539)\n",
      "foosball (0.7527)\n"
     ]
    }
   ],
   "source": [
    "# find_similar_words(model, \"joey\")\n",
    "# find_similar_words(model, \"ross\")\n",
    "# find_similar_words(model, \"phoebe\")\n",
    "# find_similar_words(model, \"rachel\")\n",
    "find_similar_words(model, \"chandler\")\n",
    "\n"
   ]
  },
  {
   "cell_type": "code",
   "execution_count": null,
   "id": "7b414ac5-342f-4498-8600-dcac3f25e161",
   "metadata": {},
   "outputs": [],
   "source": []
  }
 ],
 "metadata": {
  "kernelspec": {
   "display_name": "Python 3 (ipykernel)",
   "language": "python",
   "name": "python3"
  },
  "language_info": {
   "codemirror_mode": {
    "name": "ipython",
    "version": 3
   },
   "file_extension": ".py",
   "mimetype": "text/x-python",
   "name": "python",
   "nbconvert_exporter": "python",
   "pygments_lexer": "ipython3",
   "version": "3.12.2"
  }
 },
 "nbformat": 4,
 "nbformat_minor": 5
}
